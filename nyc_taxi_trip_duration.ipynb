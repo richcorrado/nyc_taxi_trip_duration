{
 "cells": [
  {
   "cell_type": "code",
   "execution_count": 1,
   "metadata": {
    "collapsed": true
   },
   "outputs": [],
   "source": [
    "import numpy as np\n",
    "np.random_seed = 9843\n",
    "\n",
    "import pandas as pd\n",
    "pd.set_option('display.precision',10)\n",
    "pd.set_option('display.max_colwidth',100)\n",
    "\n",
    "import matplotlib \n",
    "matplotlib.use('Agg')\n",
    "import matplotlib.pylab as plt\n",
    "from matplotlib.pylab import rcParams\n",
    "from matplotlib import pyplot\n",
    "rcParams['figure.figsize'] = 12, 4\n",
    "get_ipython().magic(u'matplotlib inline')\n",
    "\n",
    "from time import time\n",
    "import scipy"
   ]
  },
  {
   "cell_type": "markdown",
   "metadata": {},
   "source": [
    "# New York City Taxi Trip Duration\n",
    "## Share code and data to improve ride time predictions\n",
    "https://www.kaggle.com/c/nyc-taxi-trip-duration\n",
    "\n",
    "* Richard Corrado richcorrado@gmail.com\n",
    "* For the Fat Cat Fab Lab Machine Learning Meetup\n",
    "\n",
    "From kaggle:\n",
    "\n",
    "\"In this competition, Kaggle is challenging you to build a model that predicts the total ride duration of taxi trips in New York City. Your primary dataset is one released by the NYC Taxi and Limousine Commission, which includes pickup time, geo-coordinates, number of passengers, and several other variables.\"\n",
    "\n",
    "Data:\n",
    "\n",
    "File descriptions\n",
    "\n",
    "    train.csv - the training set (contains 1458644 trip records)\n",
    "    test.csv - the testing set (contains 625134 trip records)\n",
    "    sample_submission.csv - a sample submission file in the correct format\n",
    "\n",
    "Data fields\n",
    "\n",
    "    id - a unique identifier for each trip\n",
    "    vendor_id - a code indicating the provider associated with the trip record\n",
    "    pickup_datetime - date and time when the meter was engaged\n",
    "    dropoff_datetime - date and time when the meter was disengaged\n",
    "    passenger_count - the number of passengers in the vehicle (driver entered value)\n",
    "    pickup_longitude - the longitude where the meter was engaged\n",
    "    pickup_latitude - the latitude where the meter was engaged\n",
    "    dropoff_longitude - the longitude where the meter was disengaged\n",
    "    dropoff_latitude - the latitude where the meter was disengaged\n",
    "    store_and_fwd_flag - This flag indicates whether the trip record was held in vehicle memory before sending to the vendor because the vehicle did not have a connection to the server - Y=store and forward; N=not a store and forward trip\n",
    "    trip_duration - duration of the trip in seconds\n",
    "    \n",
    "### Goal\n",
    "Our goal in this notebook will be to develop an end-to-end framework for applying machine learning to the problem of predicting the target `trip_duration` from the other features.  We will discuss a minor amount of data exploration and feature engineering.  We will also discuss using the grid search method for optimizing hyperparameters using the training and validation error curves.\n",
    "\n",
    "## Loading the data using pandas\n",
    "\n",
    "Let's load the data using pandas:"
   ]
  },
  {
   "cell_type": "code",
   "execution_count": 2,
   "metadata": {
    "collapsed": true
   },
   "outputs": [],
   "source": [
    "train_orig_df = pd.read_csv(\"input/train.csv\")\n",
    "test_orig_df = pd.read_csv(\"input/test.csv\")"
   ]
  },
  {
   "cell_type": "markdown",
   "metadata": {},
   "source": [
    "Check the size of the dataset and number of features using shape (this method is included by numpy and pandas)"
   ]
  },
  {
   "cell_type": "code",
   "execution_count": 3,
   "metadata": {},
   "outputs": [
    {
     "name": "stdout",
     "output_type": "stream",
     "text": [
      "(1458644, 11)\n",
      "(625134, 9)\n"
     ]
    }
   ],
   "source": [
    "print(train_orig_df.shape)\n",
    "print(test_orig_df.shape)"
   ]
  },
  {
   "cell_type": "markdown",
   "metadata": {},
   "source": [
    "For convenience, we'll save the size of the original kaggle training set:"
   ]
  },
  {
   "cell_type": "code",
   "execution_count": 4,
   "metadata": {
    "collapsed": true
   },
   "outputs": [],
   "source": [
    "num_train_orig = train_orig_df.shape[0]"
   ]
  },
  {
   "cell_type": "markdown",
   "metadata": {},
   "source": [
    "We can look at the train and test dataframes:"
   ]
  },
  {
   "cell_type": "code",
   "execution_count": 5,
   "metadata": {},
   "outputs": [
    {
     "data": {
      "text/html": [
       "<div>\n",
       "<style>\n",
       "    .dataframe thead tr:only-child th {\n",
       "        text-align: right;\n",
       "    }\n",
       "\n",
       "    .dataframe thead th {\n",
       "        text-align: left;\n",
       "    }\n",
       "\n",
       "    .dataframe tbody tr th {\n",
       "        vertical-align: top;\n",
       "    }\n",
       "</style>\n",
       "<table border=\"1\" class=\"dataframe\">\n",
       "  <thead>\n",
       "    <tr style=\"text-align: right;\">\n",
       "      <th></th>\n",
       "      <th>id</th>\n",
       "      <th>vendor_id</th>\n",
       "      <th>pickup_datetime</th>\n",
       "      <th>dropoff_datetime</th>\n",
       "      <th>passenger_count</th>\n",
       "      <th>pickup_longitude</th>\n",
       "      <th>pickup_latitude</th>\n",
       "      <th>dropoff_longitude</th>\n",
       "      <th>dropoff_latitude</th>\n",
       "      <th>store_and_fwd_flag</th>\n",
       "      <th>trip_duration</th>\n",
       "    </tr>\n",
       "  </thead>\n",
       "  <tbody>\n",
       "    <tr>\n",
       "      <th>0</th>\n",
       "      <td>id2875421</td>\n",
       "      <td>2</td>\n",
       "      <td>2016-03-14 17:24:55</td>\n",
       "      <td>2016-03-14 17:32:30</td>\n",
       "      <td>1</td>\n",
       "      <td>-73.9821548462</td>\n",
       "      <td>40.7679367065</td>\n",
       "      <td>-73.9646301270</td>\n",
       "      <td>40.7656021118</td>\n",
       "      <td>N</td>\n",
       "      <td>455</td>\n",
       "    </tr>\n",
       "    <tr>\n",
       "      <th>1</th>\n",
       "      <td>id2377394</td>\n",
       "      <td>1</td>\n",
       "      <td>2016-06-12 00:43:35</td>\n",
       "      <td>2016-06-12 00:54:38</td>\n",
       "      <td>1</td>\n",
       "      <td>-73.9804153442</td>\n",
       "      <td>40.7385635376</td>\n",
       "      <td>-73.9994812012</td>\n",
       "      <td>40.7311515808</td>\n",
       "      <td>N</td>\n",
       "      <td>663</td>\n",
       "    </tr>\n",
       "    <tr>\n",
       "      <th>2</th>\n",
       "      <td>id3858529</td>\n",
       "      <td>2</td>\n",
       "      <td>2016-01-19 11:35:24</td>\n",
       "      <td>2016-01-19 12:10:48</td>\n",
       "      <td>1</td>\n",
       "      <td>-73.9790267944</td>\n",
       "      <td>40.7639389038</td>\n",
       "      <td>-74.0053329468</td>\n",
       "      <td>40.7100868225</td>\n",
       "      <td>N</td>\n",
       "      <td>2124</td>\n",
       "    </tr>\n",
       "    <tr>\n",
       "      <th>3</th>\n",
       "      <td>id3504673</td>\n",
       "      <td>2</td>\n",
       "      <td>2016-04-06 19:32:31</td>\n",
       "      <td>2016-04-06 19:39:40</td>\n",
       "      <td>1</td>\n",
       "      <td>-74.0100402832</td>\n",
       "      <td>40.7199707031</td>\n",
       "      <td>-74.0122680664</td>\n",
       "      <td>40.7067184448</td>\n",
       "      <td>N</td>\n",
       "      <td>429</td>\n",
       "    </tr>\n",
       "    <tr>\n",
       "      <th>4</th>\n",
       "      <td>id2181028</td>\n",
       "      <td>2</td>\n",
       "      <td>2016-03-26 13:30:55</td>\n",
       "      <td>2016-03-26 13:38:10</td>\n",
       "      <td>1</td>\n",
       "      <td>-73.9730529785</td>\n",
       "      <td>40.7932090759</td>\n",
       "      <td>-73.9729232788</td>\n",
       "      <td>40.7825202942</td>\n",
       "      <td>N</td>\n",
       "      <td>435</td>\n",
       "    </tr>\n",
       "    <tr>\n",
       "      <th>5</th>\n",
       "      <td>id0801584</td>\n",
       "      <td>2</td>\n",
       "      <td>2016-01-30 22:01:40</td>\n",
       "      <td>2016-01-30 22:09:03</td>\n",
       "      <td>6</td>\n",
       "      <td>-73.9828567505</td>\n",
       "      <td>40.7421951294</td>\n",
       "      <td>-73.9920806885</td>\n",
       "      <td>40.7491836548</td>\n",
       "      <td>N</td>\n",
       "      <td>443</td>\n",
       "    </tr>\n",
       "    <tr>\n",
       "      <th>6</th>\n",
       "      <td>id1813257</td>\n",
       "      <td>1</td>\n",
       "      <td>2016-06-17 22:34:59</td>\n",
       "      <td>2016-06-17 22:40:40</td>\n",
       "      <td>4</td>\n",
       "      <td>-73.9690170288</td>\n",
       "      <td>40.7578392029</td>\n",
       "      <td>-73.9574050903</td>\n",
       "      <td>40.7658958435</td>\n",
       "      <td>N</td>\n",
       "      <td>341</td>\n",
       "    </tr>\n",
       "    <tr>\n",
       "      <th>7</th>\n",
       "      <td>id1324603</td>\n",
       "      <td>2</td>\n",
       "      <td>2016-05-21 07:54:58</td>\n",
       "      <td>2016-05-21 08:20:49</td>\n",
       "      <td>1</td>\n",
       "      <td>-73.9692764282</td>\n",
       "      <td>40.7977790833</td>\n",
       "      <td>-73.9224700928</td>\n",
       "      <td>40.7605590820</td>\n",
       "      <td>N</td>\n",
       "      <td>1551</td>\n",
       "    </tr>\n",
       "    <tr>\n",
       "      <th>8</th>\n",
       "      <td>id1301050</td>\n",
       "      <td>1</td>\n",
       "      <td>2016-05-27 23:12:23</td>\n",
       "      <td>2016-05-27 23:16:38</td>\n",
       "      <td>1</td>\n",
       "      <td>-73.9994812012</td>\n",
       "      <td>40.7383995056</td>\n",
       "      <td>-73.9857864380</td>\n",
       "      <td>40.7328147888</td>\n",
       "      <td>N</td>\n",
       "      <td>255</td>\n",
       "    </tr>\n",
       "    <tr>\n",
       "      <th>9</th>\n",
       "      <td>id0012891</td>\n",
       "      <td>2</td>\n",
       "      <td>2016-03-10 21:45:01</td>\n",
       "      <td>2016-03-10 22:05:26</td>\n",
       "      <td>1</td>\n",
       "      <td>-73.9810485840</td>\n",
       "      <td>40.7443389893</td>\n",
       "      <td>-73.9729995728</td>\n",
       "      <td>40.7899894714</td>\n",
       "      <td>N</td>\n",
       "      <td>1225</td>\n",
       "    </tr>\n",
       "    <tr>\n",
       "      <th>10</th>\n",
       "      <td>id1436371</td>\n",
       "      <td>2</td>\n",
       "      <td>2016-05-10 22:08:41</td>\n",
       "      <td>2016-05-10 22:29:55</td>\n",
       "      <td>1</td>\n",
       "      <td>-73.9826507568</td>\n",
       "      <td>40.7638397217</td>\n",
       "      <td>-74.0022277832</td>\n",
       "      <td>40.7329902649</td>\n",
       "      <td>N</td>\n",
       "      <td>1274</td>\n",
       "    </tr>\n",
       "    <tr>\n",
       "      <th>11</th>\n",
       "      <td>id1299289</td>\n",
       "      <td>2</td>\n",
       "      <td>2016-05-15 11:16:11</td>\n",
       "      <td>2016-05-15 11:34:59</td>\n",
       "      <td>4</td>\n",
       "      <td>-73.9915313721</td>\n",
       "      <td>40.7494392395</td>\n",
       "      <td>-73.9565429688</td>\n",
       "      <td>40.7706298828</td>\n",
       "      <td>N</td>\n",
       "      <td>1128</td>\n",
       "    </tr>\n",
       "    <tr>\n",
       "      <th>12</th>\n",
       "      <td>id1187965</td>\n",
       "      <td>2</td>\n",
       "      <td>2016-02-19 09:52:46</td>\n",
       "      <td>2016-02-19 10:11:20</td>\n",
       "      <td>2</td>\n",
       "      <td>-73.9629821777</td>\n",
       "      <td>40.7566795349</td>\n",
       "      <td>-73.9844055176</td>\n",
       "      <td>40.7607192993</td>\n",
       "      <td>N</td>\n",
       "      <td>1114</td>\n",
       "    </tr>\n",
       "    <tr>\n",
       "      <th>13</th>\n",
       "      <td>id0799785</td>\n",
       "      <td>2</td>\n",
       "      <td>2016-06-01 20:58:29</td>\n",
       "      <td>2016-06-01 21:02:49</td>\n",
       "      <td>1</td>\n",
       "      <td>-73.9563064575</td>\n",
       "      <td>40.7679405212</td>\n",
       "      <td>-73.9661102295</td>\n",
       "      <td>40.7630004883</td>\n",
       "      <td>N</td>\n",
       "      <td>260</td>\n",
       "    </tr>\n",
       "    <tr>\n",
       "      <th>14</th>\n",
       "      <td>id2900608</td>\n",
       "      <td>2</td>\n",
       "      <td>2016-05-27 00:43:36</td>\n",
       "      <td>2016-05-27 01:07:10</td>\n",
       "      <td>1</td>\n",
       "      <td>-73.9921951294</td>\n",
       "      <td>40.7272262573</td>\n",
       "      <td>-73.9746551514</td>\n",
       "      <td>40.7830696106</td>\n",
       "      <td>N</td>\n",
       "      <td>1414</td>\n",
       "    </tr>\n",
       "    <tr>\n",
       "      <th>15</th>\n",
       "      <td>id3319787</td>\n",
       "      <td>1</td>\n",
       "      <td>2016-05-16 15:29:02</td>\n",
       "      <td>2016-05-16 15:32:33</td>\n",
       "      <td>1</td>\n",
       "      <td>-73.9555130005</td>\n",
       "      <td>40.7685928345</td>\n",
       "      <td>-73.9487609863</td>\n",
       "      <td>40.7715454102</td>\n",
       "      <td>N</td>\n",
       "      <td>211</td>\n",
       "    </tr>\n",
       "    <tr>\n",
       "      <th>16</th>\n",
       "      <td>id3379579</td>\n",
       "      <td>2</td>\n",
       "      <td>2016-04-11 17:29:50</td>\n",
       "      <td>2016-04-11 18:08:26</td>\n",
       "      <td>1</td>\n",
       "      <td>-73.9911651611</td>\n",
       "      <td>40.7555618286</td>\n",
       "      <td>-73.9992904663</td>\n",
       "      <td>40.7253532410</td>\n",
       "      <td>N</td>\n",
       "      <td>2316</td>\n",
       "    </tr>\n",
       "    <tr>\n",
       "      <th>17</th>\n",
       "      <td>id1154431</td>\n",
       "      <td>1</td>\n",
       "      <td>2016-04-14 08:48:26</td>\n",
       "      <td>2016-04-14 09:00:37</td>\n",
       "      <td>1</td>\n",
       "      <td>-73.9942550659</td>\n",
       "      <td>40.7458038330</td>\n",
       "      <td>-73.9996566772</td>\n",
       "      <td>40.7233428955</td>\n",
       "      <td>N</td>\n",
       "      <td>731</td>\n",
       "    </tr>\n",
       "    <tr>\n",
       "      <th>18</th>\n",
       "      <td>id3552682</td>\n",
       "      <td>1</td>\n",
       "      <td>2016-06-27 09:55:13</td>\n",
       "      <td>2016-06-27 10:17:10</td>\n",
       "      <td>1</td>\n",
       "      <td>-74.0039825439</td>\n",
       "      <td>40.7130126953</td>\n",
       "      <td>-73.9791946411</td>\n",
       "      <td>40.7499237061</td>\n",
       "      <td>N</td>\n",
       "      <td>1317</td>\n",
       "    </tr>\n",
       "    <tr>\n",
       "      <th>19</th>\n",
       "      <td>id3390316</td>\n",
       "      <td>2</td>\n",
       "      <td>2016-06-05 13:47:23</td>\n",
       "      <td>2016-06-05 13:51:34</td>\n",
       "      <td>1</td>\n",
       "      <td>-73.9838867188</td>\n",
       "      <td>40.7381973267</td>\n",
       "      <td>-73.9912033081</td>\n",
       "      <td>40.7278709412</td>\n",
       "      <td>N</td>\n",
       "      <td>251</td>\n",
       "    </tr>\n",
       "    <tr>\n",
       "      <th>20</th>\n",
       "      <td>id2070428</td>\n",
       "      <td>1</td>\n",
       "      <td>2016-02-28 02:23:02</td>\n",
       "      <td>2016-02-28 02:31:08</td>\n",
       "      <td>1</td>\n",
       "      <td>-73.9803695679</td>\n",
       "      <td>40.7424201965</td>\n",
       "      <td>-73.9628524780</td>\n",
       "      <td>40.7606353760</td>\n",
       "      <td>N</td>\n",
       "      <td>486</td>\n",
       "    </tr>\n",
       "    <tr>\n",
       "      <th>21</th>\n",
       "      <td>id0809232</td>\n",
       "      <td>2</td>\n",
       "      <td>2016-04-01 12:12:25</td>\n",
       "      <td>2016-04-01 12:23:17</td>\n",
       "      <td>1</td>\n",
       "      <td>-73.9795379639</td>\n",
       "      <td>40.7533607483</td>\n",
       "      <td>-73.9639968872</td>\n",
       "      <td>40.7634582520</td>\n",
       "      <td>N</td>\n",
       "      <td>652</td>\n",
       "    </tr>\n",
       "    <tr>\n",
       "      <th>22</th>\n",
       "      <td>id2352683</td>\n",
       "      <td>1</td>\n",
       "      <td>2016-04-09 03:34:27</td>\n",
       "      <td>2016-04-09 03:41:30</td>\n",
       "      <td>1</td>\n",
       "      <td>-73.9958648682</td>\n",
       "      <td>40.7588119507</td>\n",
       "      <td>-73.9933242798</td>\n",
       "      <td>40.7403221130</td>\n",
       "      <td>N</td>\n",
       "      <td>423</td>\n",
       "    </tr>\n",
       "    <tr>\n",
       "      <th>23</th>\n",
       "      <td>id1603037</td>\n",
       "      <td>1</td>\n",
       "      <td>2016-06-25 10:36:26</td>\n",
       "      <td>2016-06-25 10:55:49</td>\n",
       "      <td>1</td>\n",
       "      <td>-73.9935531616</td>\n",
       "      <td>40.7471733093</td>\n",
       "      <td>-74.0061416626</td>\n",
       "      <td>40.7043838501</td>\n",
       "      <td>N</td>\n",
       "      <td>1163</td>\n",
       "    </tr>\n",
       "    <tr>\n",
       "      <th>24</th>\n",
       "      <td>id3321406</td>\n",
       "      <td>2</td>\n",
       "      <td>2016-06-03 08:15:05</td>\n",
       "      <td>2016-06-03 08:56:30</td>\n",
       "      <td>1</td>\n",
       "      <td>-73.9552307129</td>\n",
       "      <td>40.7771339417</td>\n",
       "      <td>-73.7887496948</td>\n",
       "      <td>40.6414718628</td>\n",
       "      <td>N</td>\n",
       "      <td>2485</td>\n",
       "    </tr>\n",
       "    <tr>\n",
       "      <th>25</th>\n",
       "      <td>id0129640</td>\n",
       "      <td>2</td>\n",
       "      <td>2016-02-14 13:27:56</td>\n",
       "      <td>2016-02-14 13:49:19</td>\n",
       "      <td>1</td>\n",
       "      <td>-73.9565811157</td>\n",
       "      <td>40.7713584900</td>\n",
       "      <td>-73.9749679565</td>\n",
       "      <td>40.7327919006</td>\n",
       "      <td>N</td>\n",
       "      <td>1283</td>\n",
       "    </tr>\n",
       "    <tr>\n",
       "      <th>26</th>\n",
       "      <td>id3587298</td>\n",
       "      <td>1</td>\n",
       "      <td>2016-02-27 21:56:01</td>\n",
       "      <td>2016-02-27 22:14:51</td>\n",
       "      <td>1</td>\n",
       "      <td>-73.9837646484</td>\n",
       "      <td>40.7498741150</td>\n",
       "      <td>-73.9588317871</td>\n",
       "      <td>40.8009605408</td>\n",
       "      <td>N</td>\n",
       "      <td>1130</td>\n",
       "    </tr>\n",
       "    <tr>\n",
       "      <th>27</th>\n",
       "      <td>id2104175</td>\n",
       "      <td>1</td>\n",
       "      <td>2016-06-20 23:07:16</td>\n",
       "      <td>2016-06-20 23:18:50</td>\n",
       "      <td>1</td>\n",
       "      <td>-73.9584350586</td>\n",
       "      <td>40.7131919861</td>\n",
       "      <td>-73.9495391846</td>\n",
       "      <td>40.6802520752</td>\n",
       "      <td>N</td>\n",
       "      <td>694</td>\n",
       "    </tr>\n",
       "    <tr>\n",
       "      <th>28</th>\n",
       "      <td>id3973319</td>\n",
       "      <td>2</td>\n",
       "      <td>2016-06-13 21:57:27</td>\n",
       "      <td>2016-06-13 22:12:19</td>\n",
       "      <td>1</td>\n",
       "      <td>-73.9942169189</td>\n",
       "      <td>40.7133064270</td>\n",
       "      <td>-73.9828491211</td>\n",
       "      <td>40.6922988892</td>\n",
       "      <td>N</td>\n",
       "      <td>892</td>\n",
       "    </tr>\n",
       "    <tr>\n",
       "      <th>29</th>\n",
       "      <td>id1410897</td>\n",
       "      <td>1</td>\n",
       "      <td>2016-03-23 14:10:39</td>\n",
       "      <td>2016-03-23 14:49:30</td>\n",
       "      <td>1</td>\n",
       "      <td>-73.9821166992</td>\n",
       "      <td>40.7563514709</td>\n",
       "      <td>-73.8656921387</td>\n",
       "      <td>40.7709884644</td>\n",
       "      <td>N</td>\n",
       "      <td>2331</td>\n",
       "    </tr>\n",
       "    <tr>\n",
       "      <th>...</th>\n",
       "      <td>...</td>\n",
       "      <td>...</td>\n",
       "      <td>...</td>\n",
       "      <td>...</td>\n",
       "      <td>...</td>\n",
       "      <td>...</td>\n",
       "      <td>...</td>\n",
       "      <td>...</td>\n",
       "      <td>...</td>\n",
       "      <td>...</td>\n",
       "      <td>...</td>\n",
       "    </tr>\n",
       "    <tr>\n",
       "      <th>1458614</th>\n",
       "      <td>id2061444</td>\n",
       "      <td>2</td>\n",
       "      <td>2016-02-08 17:16:07</td>\n",
       "      <td>2016-02-08 17:21:45</td>\n",
       "      <td>1</td>\n",
       "      <td>-73.9809265137</td>\n",
       "      <td>40.7676506042</td>\n",
       "      <td>-73.9653015137</td>\n",
       "      <td>40.7652511597</td>\n",
       "      <td>N</td>\n",
       "      <td>338</td>\n",
       "    </tr>\n",
       "    <tr>\n",
       "      <th>1458615</th>\n",
       "      <td>id3182230</td>\n",
       "      <td>1</td>\n",
       "      <td>2016-02-05 17:57:08</td>\n",
       "      <td>2016-02-05 18:11:25</td>\n",
       "      <td>1</td>\n",
       "      <td>-73.9910125732</td>\n",
       "      <td>40.7283210754</td>\n",
       "      <td>-73.9667663574</td>\n",
       "      <td>40.7115478516</td>\n",
       "      <td>N</td>\n",
       "      <td>857</td>\n",
       "    </tr>\n",
       "    <tr>\n",
       "      <th>1458616</th>\n",
       "      <td>id2822294</td>\n",
       "      <td>1</td>\n",
       "      <td>2016-04-22 17:21:14</td>\n",
       "      <td>2016-04-22 17:29:22</td>\n",
       "      <td>1</td>\n",
       "      <td>-73.9883270264</td>\n",
       "      <td>40.7321472168</td>\n",
       "      <td>-73.9996414185</td>\n",
       "      <td>40.7341918945</td>\n",
       "      <td>N</td>\n",
       "      <td>488</td>\n",
       "    </tr>\n",
       "    <tr>\n",
       "      <th>1458617</th>\n",
       "      <td>id0820021</td>\n",
       "      <td>2</td>\n",
       "      <td>2016-04-15 08:31:20</td>\n",
       "      <td>2016-04-15 08:34:48</td>\n",
       "      <td>1</td>\n",
       "      <td>-73.9754333496</td>\n",
       "      <td>40.7524108887</td>\n",
       "      <td>-73.9731216431</td>\n",
       "      <td>40.7467803955</td>\n",
       "      <td>N</td>\n",
       "      <td>208</td>\n",
       "    </tr>\n",
       "    <tr>\n",
       "      <th>1458618</th>\n",
       "      <td>id1046767</td>\n",
       "      <td>2</td>\n",
       "      <td>2016-04-17 01:46:48</td>\n",
       "      <td>2016-04-17 01:52:55</td>\n",
       "      <td>1</td>\n",
       "      <td>-73.9875640869</td>\n",
       "      <td>40.7333869934</td>\n",
       "      <td>-74.0011291504</td>\n",
       "      <td>40.7310562134</td>\n",
       "      <td>N</td>\n",
       "      <td>367</td>\n",
       "    </tr>\n",
       "    <tr>\n",
       "      <th>1458619</th>\n",
       "      <td>id1083860</td>\n",
       "      <td>2</td>\n",
       "      <td>2016-04-23 12:14:15</td>\n",
       "      <td>2016-04-23 12:26:03</td>\n",
       "      <td>1</td>\n",
       "      <td>-73.9547729492</td>\n",
       "      <td>40.7778816223</td>\n",
       "      <td>-73.9809036255</td>\n",
       "      <td>40.7825164795</td>\n",
       "      <td>N</td>\n",
       "      <td>708</td>\n",
       "    </tr>\n",
       "    <tr>\n",
       "      <th>1458620</th>\n",
       "      <td>id0694577</td>\n",
       "      <td>2</td>\n",
       "      <td>2016-04-28 20:51:03</td>\n",
       "      <td>2016-04-28 21:10:25</td>\n",
       "      <td>1</td>\n",
       "      <td>-73.9663238525</td>\n",
       "      <td>40.7580718994</td>\n",
       "      <td>-74.0065155029</td>\n",
       "      <td>40.7366409302</td>\n",
       "      <td>N</td>\n",
       "      <td>1162</td>\n",
       "    </tr>\n",
       "    <tr>\n",
       "      <th>1458621</th>\n",
       "      <td>id3267199</td>\n",
       "      <td>2</td>\n",
       "      <td>2016-05-09 14:33:30</td>\n",
       "      <td>2016-05-09 15:12:45</td>\n",
       "      <td>1</td>\n",
       "      <td>-73.9595336914</td>\n",
       "      <td>40.7827491760</td>\n",
       "      <td>-73.9909591675</td>\n",
       "      <td>40.7510910034</td>\n",
       "      <td>N</td>\n",
       "      <td>2355</td>\n",
       "    </tr>\n",
       "    <tr>\n",
       "      <th>1458622</th>\n",
       "      <td>id0125435</td>\n",
       "      <td>2</td>\n",
       "      <td>2016-02-19 18:26:52</td>\n",
       "      <td>2016-02-19 18:36:04</td>\n",
       "      <td>1</td>\n",
       "      <td>-74.0084075928</td>\n",
       "      <td>40.7211418152</td>\n",
       "      <td>-74.0005569458</td>\n",
       "      <td>40.7239112854</td>\n",
       "      <td>N</td>\n",
       "      <td>552</td>\n",
       "    </tr>\n",
       "    <tr>\n",
       "      <th>1458623</th>\n",
       "      <td>id3369208</td>\n",
       "      <td>1</td>\n",
       "      <td>2016-01-18 20:35:30</td>\n",
       "      <td>2016-01-18 20:44:44</td>\n",
       "      <td>1</td>\n",
       "      <td>-73.9910812378</td>\n",
       "      <td>40.7374076843</td>\n",
       "      <td>-73.9876708984</td>\n",
       "      <td>40.7226219177</td>\n",
       "      <td>N</td>\n",
       "      <td>554</td>\n",
       "    </tr>\n",
       "    <tr>\n",
       "      <th>1458624</th>\n",
       "      <td>id3482902</td>\n",
       "      <td>1</td>\n",
       "      <td>2016-03-01 07:21:04</td>\n",
       "      <td>2016-03-01 07:23:36</td>\n",
       "      <td>1</td>\n",
       "      <td>-73.9746932983</td>\n",
       "      <td>40.7560882568</td>\n",
       "      <td>-73.9699707031</td>\n",
       "      <td>40.7621154785</td>\n",
       "      <td>N</td>\n",
       "      <td>152</td>\n",
       "    </tr>\n",
       "    <tr>\n",
       "      <th>1458625</th>\n",
       "      <td>id3730733</td>\n",
       "      <td>2</td>\n",
       "      <td>2016-01-25 17:21:15</td>\n",
       "      <td>2016-01-25 17:54:37</td>\n",
       "      <td>1</td>\n",
       "      <td>-73.9896545410</td>\n",
       "      <td>40.7406120300</td>\n",
       "      <td>-73.9610290527</td>\n",
       "      <td>40.7653656006</td>\n",
       "      <td>N</td>\n",
       "      <td>2002</td>\n",
       "    </tr>\n",
       "    <tr>\n",
       "      <th>1458626</th>\n",
       "      <td>id0155863</td>\n",
       "      <td>2</td>\n",
       "      <td>2016-01-17 17:21:11</td>\n",
       "      <td>2016-01-17 17:25:15</td>\n",
       "      <td>2</td>\n",
       "      <td>-73.9540710449</td>\n",
       "      <td>40.7670211792</td>\n",
       "      <td>-73.9503402710</td>\n",
       "      <td>40.7782325745</td>\n",
       "      <td>N</td>\n",
       "      <td>244</td>\n",
       "    </tr>\n",
       "    <tr>\n",
       "      <th>1458627</th>\n",
       "      <td>id0439281</td>\n",
       "      <td>2</td>\n",
       "      <td>2016-06-23 10:10:28</td>\n",
       "      <td>2016-06-23 10:25:08</td>\n",
       "      <td>5</td>\n",
       "      <td>-73.9816513062</td>\n",
       "      <td>40.7677078247</td>\n",
       "      <td>-73.9591827393</td>\n",
       "      <td>40.7774124146</td>\n",
       "      <td>N</td>\n",
       "      <td>880</td>\n",
       "    </tr>\n",
       "    <tr>\n",
       "      <th>1458628</th>\n",
       "      <td>id0986544</td>\n",
       "      <td>2</td>\n",
       "      <td>2016-05-30 03:08:19</td>\n",
       "      <td>2016-05-30 03:14:10</td>\n",
       "      <td>2</td>\n",
       "      <td>-73.9886322021</td>\n",
       "      <td>40.7213783264</td>\n",
       "      <td>-73.9755477905</td>\n",
       "      <td>40.7285194397</td>\n",
       "      <td>N</td>\n",
       "      <td>351</td>\n",
       "    </tr>\n",
       "    <tr>\n",
       "      <th>1458629</th>\n",
       "      <td>id3109086</td>\n",
       "      <td>2</td>\n",
       "      <td>2016-06-24 10:33:51</td>\n",
       "      <td>2016-06-24 10:43:52</td>\n",
       "      <td>1</td>\n",
       "      <td>-73.9596176147</td>\n",
       "      <td>40.8089408875</td>\n",
       "      <td>-73.9479217529</td>\n",
       "      <td>40.8301887512</td>\n",
       "      <td>N</td>\n",
       "      <td>601</td>\n",
       "    </tr>\n",
       "    <tr>\n",
       "      <th>1458630</th>\n",
       "      <td>id0287353</td>\n",
       "      <td>2</td>\n",
       "      <td>2016-06-25 03:44:32</td>\n",
       "      <td>2016-06-25 03:53:41</td>\n",
       "      <td>5</td>\n",
       "      <td>-73.9915084839</td>\n",
       "      <td>40.7271347046</td>\n",
       "      <td>-73.9881362915</td>\n",
       "      <td>40.7409324646</td>\n",
       "      <td>N</td>\n",
       "      <td>549</td>\n",
       "    </tr>\n",
       "    <tr>\n",
       "      <th>1458631</th>\n",
       "      <td>id1724231</td>\n",
       "      <td>1</td>\n",
       "      <td>2016-05-14 23:18:23</td>\n",
       "      <td>2016-05-14 23:24:05</td>\n",
       "      <td>3</td>\n",
       "      <td>-73.9589462280</td>\n",
       "      <td>40.7637252808</td>\n",
       "      <td>-73.9531555176</td>\n",
       "      <td>40.7800025940</td>\n",
       "      <td>N</td>\n",
       "      <td>342</td>\n",
       "    </tr>\n",
       "    <tr>\n",
       "      <th>1458632</th>\n",
       "      <td>id0469946</td>\n",
       "      <td>2</td>\n",
       "      <td>2016-03-06 11:04:48</td>\n",
       "      <td>2016-03-06 11:17:45</td>\n",
       "      <td>2</td>\n",
       "      <td>-74.0155715942</td>\n",
       "      <td>40.7108917236</td>\n",
       "      <td>-73.9966201782</td>\n",
       "      <td>40.7436332703</td>\n",
       "      <td>N</td>\n",
       "      <td>777</td>\n",
       "    </tr>\n",
       "    <tr>\n",
       "      <th>1458633</th>\n",
       "      <td>id2432342</td>\n",
       "      <td>1</td>\n",
       "      <td>2016-03-17 19:10:16</td>\n",
       "      <td>2016-03-17 19:26:35</td>\n",
       "      <td>3</td>\n",
       "      <td>-73.9796524048</td>\n",
       "      <td>40.7352790833</td>\n",
       "      <td>-73.9955215454</td>\n",
       "      <td>40.7597541809</td>\n",
       "      <td>N</td>\n",
       "      <td>979</td>\n",
       "    </tr>\n",
       "    <tr>\n",
       "      <th>1458634</th>\n",
       "      <td>id3445276</td>\n",
       "      <td>1</td>\n",
       "      <td>2016-04-03 13:51:25</td>\n",
       "      <td>2016-04-03 14:07:37</td>\n",
       "      <td>2</td>\n",
       "      <td>-73.9890747070</td>\n",
       "      <td>40.7304649353</td>\n",
       "      <td>-73.9638824463</td>\n",
       "      <td>40.7737388611</td>\n",
       "      <td>N</td>\n",
       "      <td>972</td>\n",
       "    </tr>\n",
       "    <tr>\n",
       "      <th>1458635</th>\n",
       "      <td>id3027038</td>\n",
       "      <td>2</td>\n",
       "      <td>2016-05-19 14:46:55</td>\n",
       "      <td>2016-05-19 14:50:52</td>\n",
       "      <td>1</td>\n",
       "      <td>-73.9853897095</td>\n",
       "      <td>40.7630195618</td>\n",
       "      <td>-73.9897079468</td>\n",
       "      <td>40.7675018311</td>\n",
       "      <td>N</td>\n",
       "      <td>237</td>\n",
       "    </tr>\n",
       "    <tr>\n",
       "      <th>1458636</th>\n",
       "      <td>id0405770</td>\n",
       "      <td>2</td>\n",
       "      <td>2016-02-12 10:13:06</td>\n",
       "      <td>2016-02-12 10:26:26</td>\n",
       "      <td>1</td>\n",
       "      <td>-73.8638153076</td>\n",
       "      <td>40.7696838379</td>\n",
       "      <td>-73.8643951416</td>\n",
       "      <td>40.7613258362</td>\n",
       "      <td>N</td>\n",
       "      <td>800</td>\n",
       "    </tr>\n",
       "    <tr>\n",
       "      <th>1458637</th>\n",
       "      <td>id1920898</td>\n",
       "      <td>1</td>\n",
       "      <td>2016-04-17 18:48:16</td>\n",
       "      <td>2016-04-17 19:00:56</td>\n",
       "      <td>1</td>\n",
       "      <td>-73.9753570557</td>\n",
       "      <td>40.7517051697</td>\n",
       "      <td>-73.9494781494</td>\n",
       "      <td>40.7767639160</td>\n",
       "      <td>N</td>\n",
       "      <td>760</td>\n",
       "    </tr>\n",
       "    <tr>\n",
       "      <th>1458638</th>\n",
       "      <td>id1454193</td>\n",
       "      <td>2</td>\n",
       "      <td>2016-02-02 00:39:39</td>\n",
       "      <td>2016-02-02 00:46:33</td>\n",
       "      <td>5</td>\n",
       "      <td>-73.9888229370</td>\n",
       "      <td>40.7365531921</td>\n",
       "      <td>-73.9891662598</td>\n",
       "      <td>40.7573928833</td>\n",
       "      <td>N</td>\n",
       "      <td>414</td>\n",
       "    </tr>\n",
       "    <tr>\n",
       "      <th>1458639</th>\n",
       "      <td>id2376096</td>\n",
       "      <td>2</td>\n",
       "      <td>2016-04-08 13:31:04</td>\n",
       "      <td>2016-04-08 13:44:02</td>\n",
       "      <td>4</td>\n",
       "      <td>-73.9822006226</td>\n",
       "      <td>40.7455215454</td>\n",
       "      <td>-73.9949111938</td>\n",
       "      <td>40.7401695251</td>\n",
       "      <td>N</td>\n",
       "      <td>778</td>\n",
       "    </tr>\n",
       "    <tr>\n",
       "      <th>1458640</th>\n",
       "      <td>id1049543</td>\n",
       "      <td>1</td>\n",
       "      <td>2016-01-10 07:35:15</td>\n",
       "      <td>2016-01-10 07:46:10</td>\n",
       "      <td>1</td>\n",
       "      <td>-74.0009460449</td>\n",
       "      <td>40.7473793030</td>\n",
       "      <td>-73.9701843262</td>\n",
       "      <td>40.7965469360</td>\n",
       "      <td>N</td>\n",
       "      <td>655</td>\n",
       "    </tr>\n",
       "    <tr>\n",
       "      <th>1458641</th>\n",
       "      <td>id2304944</td>\n",
       "      <td>2</td>\n",
       "      <td>2016-04-22 06:57:41</td>\n",
       "      <td>2016-04-22 07:10:25</td>\n",
       "      <td>1</td>\n",
       "      <td>-73.9591293335</td>\n",
       "      <td>40.7687988281</td>\n",
       "      <td>-74.0044326782</td>\n",
       "      <td>40.7073707581</td>\n",
       "      <td>N</td>\n",
       "      <td>764</td>\n",
       "    </tr>\n",
       "    <tr>\n",
       "      <th>1458642</th>\n",
       "      <td>id2714485</td>\n",
       "      <td>1</td>\n",
       "      <td>2016-01-05 15:56:26</td>\n",
       "      <td>2016-01-05 16:02:39</td>\n",
       "      <td>1</td>\n",
       "      <td>-73.9820785522</td>\n",
       "      <td>40.7490615845</td>\n",
       "      <td>-73.9746322632</td>\n",
       "      <td>40.7571067810</td>\n",
       "      <td>N</td>\n",
       "      <td>373</td>\n",
       "    </tr>\n",
       "    <tr>\n",
       "      <th>1458643</th>\n",
       "      <td>id1209952</td>\n",
       "      <td>1</td>\n",
       "      <td>2016-04-05 14:44:25</td>\n",
       "      <td>2016-04-05 14:47:43</td>\n",
       "      <td>1</td>\n",
       "      <td>-73.9795379639</td>\n",
       "      <td>40.7817497253</td>\n",
       "      <td>-73.9728088379</td>\n",
       "      <td>40.7905845642</td>\n",
       "      <td>N</td>\n",
       "      <td>198</td>\n",
       "    </tr>\n",
       "  </tbody>\n",
       "</table>\n",
       "<p>1458644 rows × 11 columns</p>\n",
       "</div>"
      ],
      "text/plain": [
       "                id  vendor_id      pickup_datetime     dropoff_datetime  \\\n",
       "0        id2875421          2  2016-03-14 17:24:55  2016-03-14 17:32:30   \n",
       "1        id2377394          1  2016-06-12 00:43:35  2016-06-12 00:54:38   \n",
       "2        id3858529          2  2016-01-19 11:35:24  2016-01-19 12:10:48   \n",
       "3        id3504673          2  2016-04-06 19:32:31  2016-04-06 19:39:40   \n",
       "4        id2181028          2  2016-03-26 13:30:55  2016-03-26 13:38:10   \n",
       "5        id0801584          2  2016-01-30 22:01:40  2016-01-30 22:09:03   \n",
       "6        id1813257          1  2016-06-17 22:34:59  2016-06-17 22:40:40   \n",
       "7        id1324603          2  2016-05-21 07:54:58  2016-05-21 08:20:49   \n",
       "8        id1301050          1  2016-05-27 23:12:23  2016-05-27 23:16:38   \n",
       "9        id0012891          2  2016-03-10 21:45:01  2016-03-10 22:05:26   \n",
       "10       id1436371          2  2016-05-10 22:08:41  2016-05-10 22:29:55   \n",
       "11       id1299289          2  2016-05-15 11:16:11  2016-05-15 11:34:59   \n",
       "12       id1187965          2  2016-02-19 09:52:46  2016-02-19 10:11:20   \n",
       "13       id0799785          2  2016-06-01 20:58:29  2016-06-01 21:02:49   \n",
       "14       id2900608          2  2016-05-27 00:43:36  2016-05-27 01:07:10   \n",
       "15       id3319787          1  2016-05-16 15:29:02  2016-05-16 15:32:33   \n",
       "16       id3379579          2  2016-04-11 17:29:50  2016-04-11 18:08:26   \n",
       "17       id1154431          1  2016-04-14 08:48:26  2016-04-14 09:00:37   \n",
       "18       id3552682          1  2016-06-27 09:55:13  2016-06-27 10:17:10   \n",
       "19       id3390316          2  2016-06-05 13:47:23  2016-06-05 13:51:34   \n",
       "20       id2070428          1  2016-02-28 02:23:02  2016-02-28 02:31:08   \n",
       "21       id0809232          2  2016-04-01 12:12:25  2016-04-01 12:23:17   \n",
       "22       id2352683          1  2016-04-09 03:34:27  2016-04-09 03:41:30   \n",
       "23       id1603037          1  2016-06-25 10:36:26  2016-06-25 10:55:49   \n",
       "24       id3321406          2  2016-06-03 08:15:05  2016-06-03 08:56:30   \n",
       "25       id0129640          2  2016-02-14 13:27:56  2016-02-14 13:49:19   \n",
       "26       id3587298          1  2016-02-27 21:56:01  2016-02-27 22:14:51   \n",
       "27       id2104175          1  2016-06-20 23:07:16  2016-06-20 23:18:50   \n",
       "28       id3973319          2  2016-06-13 21:57:27  2016-06-13 22:12:19   \n",
       "29       id1410897          1  2016-03-23 14:10:39  2016-03-23 14:49:30   \n",
       "...            ...        ...                  ...                  ...   \n",
       "1458614  id2061444          2  2016-02-08 17:16:07  2016-02-08 17:21:45   \n",
       "1458615  id3182230          1  2016-02-05 17:57:08  2016-02-05 18:11:25   \n",
       "1458616  id2822294          1  2016-04-22 17:21:14  2016-04-22 17:29:22   \n",
       "1458617  id0820021          2  2016-04-15 08:31:20  2016-04-15 08:34:48   \n",
       "1458618  id1046767          2  2016-04-17 01:46:48  2016-04-17 01:52:55   \n",
       "1458619  id1083860          2  2016-04-23 12:14:15  2016-04-23 12:26:03   \n",
       "1458620  id0694577          2  2016-04-28 20:51:03  2016-04-28 21:10:25   \n",
       "1458621  id3267199          2  2016-05-09 14:33:30  2016-05-09 15:12:45   \n",
       "1458622  id0125435          2  2016-02-19 18:26:52  2016-02-19 18:36:04   \n",
       "1458623  id3369208          1  2016-01-18 20:35:30  2016-01-18 20:44:44   \n",
       "1458624  id3482902          1  2016-03-01 07:21:04  2016-03-01 07:23:36   \n",
       "1458625  id3730733          2  2016-01-25 17:21:15  2016-01-25 17:54:37   \n",
       "1458626  id0155863          2  2016-01-17 17:21:11  2016-01-17 17:25:15   \n",
       "1458627  id0439281          2  2016-06-23 10:10:28  2016-06-23 10:25:08   \n",
       "1458628  id0986544          2  2016-05-30 03:08:19  2016-05-30 03:14:10   \n",
       "1458629  id3109086          2  2016-06-24 10:33:51  2016-06-24 10:43:52   \n",
       "1458630  id0287353          2  2016-06-25 03:44:32  2016-06-25 03:53:41   \n",
       "1458631  id1724231          1  2016-05-14 23:18:23  2016-05-14 23:24:05   \n",
       "1458632  id0469946          2  2016-03-06 11:04:48  2016-03-06 11:17:45   \n",
       "1458633  id2432342          1  2016-03-17 19:10:16  2016-03-17 19:26:35   \n",
       "1458634  id3445276          1  2016-04-03 13:51:25  2016-04-03 14:07:37   \n",
       "1458635  id3027038          2  2016-05-19 14:46:55  2016-05-19 14:50:52   \n",
       "1458636  id0405770          2  2016-02-12 10:13:06  2016-02-12 10:26:26   \n",
       "1458637  id1920898          1  2016-04-17 18:48:16  2016-04-17 19:00:56   \n",
       "1458638  id1454193          2  2016-02-02 00:39:39  2016-02-02 00:46:33   \n",
       "1458639  id2376096          2  2016-04-08 13:31:04  2016-04-08 13:44:02   \n",
       "1458640  id1049543          1  2016-01-10 07:35:15  2016-01-10 07:46:10   \n",
       "1458641  id2304944          2  2016-04-22 06:57:41  2016-04-22 07:10:25   \n",
       "1458642  id2714485          1  2016-01-05 15:56:26  2016-01-05 16:02:39   \n",
       "1458643  id1209952          1  2016-04-05 14:44:25  2016-04-05 14:47:43   \n",
       "\n",
       "         passenger_count  pickup_longitude  pickup_latitude  \\\n",
       "0                      1    -73.9821548462    40.7679367065   \n",
       "1                      1    -73.9804153442    40.7385635376   \n",
       "2                      1    -73.9790267944    40.7639389038   \n",
       "3                      1    -74.0100402832    40.7199707031   \n",
       "4                      1    -73.9730529785    40.7932090759   \n",
       "5                      6    -73.9828567505    40.7421951294   \n",
       "6                      4    -73.9690170288    40.7578392029   \n",
       "7                      1    -73.9692764282    40.7977790833   \n",
       "8                      1    -73.9994812012    40.7383995056   \n",
       "9                      1    -73.9810485840    40.7443389893   \n",
       "10                     1    -73.9826507568    40.7638397217   \n",
       "11                     4    -73.9915313721    40.7494392395   \n",
       "12                     2    -73.9629821777    40.7566795349   \n",
       "13                     1    -73.9563064575    40.7679405212   \n",
       "14                     1    -73.9921951294    40.7272262573   \n",
       "15                     1    -73.9555130005    40.7685928345   \n",
       "16                     1    -73.9911651611    40.7555618286   \n",
       "17                     1    -73.9942550659    40.7458038330   \n",
       "18                     1    -74.0039825439    40.7130126953   \n",
       "19                     1    -73.9838867188    40.7381973267   \n",
       "20                     1    -73.9803695679    40.7424201965   \n",
       "21                     1    -73.9795379639    40.7533607483   \n",
       "22                     1    -73.9958648682    40.7588119507   \n",
       "23                     1    -73.9935531616    40.7471733093   \n",
       "24                     1    -73.9552307129    40.7771339417   \n",
       "25                     1    -73.9565811157    40.7713584900   \n",
       "26                     1    -73.9837646484    40.7498741150   \n",
       "27                     1    -73.9584350586    40.7131919861   \n",
       "28                     1    -73.9942169189    40.7133064270   \n",
       "29                     1    -73.9821166992    40.7563514709   \n",
       "...                  ...               ...              ...   \n",
       "1458614                1    -73.9809265137    40.7676506042   \n",
       "1458615                1    -73.9910125732    40.7283210754   \n",
       "1458616                1    -73.9883270264    40.7321472168   \n",
       "1458617                1    -73.9754333496    40.7524108887   \n",
       "1458618                1    -73.9875640869    40.7333869934   \n",
       "1458619                1    -73.9547729492    40.7778816223   \n",
       "1458620                1    -73.9663238525    40.7580718994   \n",
       "1458621                1    -73.9595336914    40.7827491760   \n",
       "1458622                1    -74.0084075928    40.7211418152   \n",
       "1458623                1    -73.9910812378    40.7374076843   \n",
       "1458624                1    -73.9746932983    40.7560882568   \n",
       "1458625                1    -73.9896545410    40.7406120300   \n",
       "1458626                2    -73.9540710449    40.7670211792   \n",
       "1458627                5    -73.9816513062    40.7677078247   \n",
       "1458628                2    -73.9886322021    40.7213783264   \n",
       "1458629                1    -73.9596176147    40.8089408875   \n",
       "1458630                5    -73.9915084839    40.7271347046   \n",
       "1458631                3    -73.9589462280    40.7637252808   \n",
       "1458632                2    -74.0155715942    40.7108917236   \n",
       "1458633                3    -73.9796524048    40.7352790833   \n",
       "1458634                2    -73.9890747070    40.7304649353   \n",
       "1458635                1    -73.9853897095    40.7630195618   \n",
       "1458636                1    -73.8638153076    40.7696838379   \n",
       "1458637                1    -73.9753570557    40.7517051697   \n",
       "1458638                5    -73.9888229370    40.7365531921   \n",
       "1458639                4    -73.9822006226    40.7455215454   \n",
       "1458640                1    -74.0009460449    40.7473793030   \n",
       "1458641                1    -73.9591293335    40.7687988281   \n",
       "1458642                1    -73.9820785522    40.7490615845   \n",
       "1458643                1    -73.9795379639    40.7817497253   \n",
       "\n",
       "         dropoff_longitude  dropoff_latitude store_and_fwd_flag  trip_duration  \n",
       "0           -73.9646301270     40.7656021118                  N            455  \n",
       "1           -73.9994812012     40.7311515808                  N            663  \n",
       "2           -74.0053329468     40.7100868225                  N           2124  \n",
       "3           -74.0122680664     40.7067184448                  N            429  \n",
       "4           -73.9729232788     40.7825202942                  N            435  \n",
       "5           -73.9920806885     40.7491836548                  N            443  \n",
       "6           -73.9574050903     40.7658958435                  N            341  \n",
       "7           -73.9224700928     40.7605590820                  N           1551  \n",
       "8           -73.9857864380     40.7328147888                  N            255  \n",
       "9           -73.9729995728     40.7899894714                  N           1225  \n",
       "10          -74.0022277832     40.7329902649                  N           1274  \n",
       "11          -73.9565429688     40.7706298828                  N           1128  \n",
       "12          -73.9844055176     40.7607192993                  N           1114  \n",
       "13          -73.9661102295     40.7630004883                  N            260  \n",
       "14          -73.9746551514     40.7830696106                  N           1414  \n",
       "15          -73.9487609863     40.7715454102                  N            211  \n",
       "16          -73.9992904663     40.7253532410                  N           2316  \n",
       "17          -73.9996566772     40.7233428955                  N            731  \n",
       "18          -73.9791946411     40.7499237061                  N           1317  \n",
       "19          -73.9912033081     40.7278709412                  N            251  \n",
       "20          -73.9628524780     40.7606353760                  N            486  \n",
       "21          -73.9639968872     40.7634582520                  N            652  \n",
       "22          -73.9933242798     40.7403221130                  N            423  \n",
       "23          -74.0061416626     40.7043838501                  N           1163  \n",
       "24          -73.7887496948     40.6414718628                  N           2485  \n",
       "25          -73.9749679565     40.7327919006                  N           1283  \n",
       "26          -73.9588317871     40.8009605408                  N           1130  \n",
       "27          -73.9495391846     40.6802520752                  N            694  \n",
       "28          -73.9828491211     40.6922988892                  N            892  \n",
       "29          -73.8656921387     40.7709884644                  N           2331  \n",
       "...                    ...               ...                ...            ...  \n",
       "1458614     -73.9653015137     40.7652511597                  N            338  \n",
       "1458615     -73.9667663574     40.7115478516                  N            857  \n",
       "1458616     -73.9996414185     40.7341918945                  N            488  \n",
       "1458617     -73.9731216431     40.7467803955                  N            208  \n",
       "1458618     -74.0011291504     40.7310562134                  N            367  \n",
       "1458619     -73.9809036255     40.7825164795                  N            708  \n",
       "1458620     -74.0065155029     40.7366409302                  N           1162  \n",
       "1458621     -73.9909591675     40.7510910034                  N           2355  \n",
       "1458622     -74.0005569458     40.7239112854                  N            552  \n",
       "1458623     -73.9876708984     40.7226219177                  N            554  \n",
       "1458624     -73.9699707031     40.7621154785                  N            152  \n",
       "1458625     -73.9610290527     40.7653656006                  N           2002  \n",
       "1458626     -73.9503402710     40.7782325745                  N            244  \n",
       "1458627     -73.9591827393     40.7774124146                  N            880  \n",
       "1458628     -73.9755477905     40.7285194397                  N            351  \n",
       "1458629     -73.9479217529     40.8301887512                  N            601  \n",
       "1458630     -73.9881362915     40.7409324646                  N            549  \n",
       "1458631     -73.9531555176     40.7800025940                  N            342  \n",
       "1458632     -73.9966201782     40.7436332703                  N            777  \n",
       "1458633     -73.9955215454     40.7597541809                  N            979  \n",
       "1458634     -73.9638824463     40.7737388611                  N            972  \n",
       "1458635     -73.9897079468     40.7675018311                  N            237  \n",
       "1458636     -73.8643951416     40.7613258362                  N            800  \n",
       "1458637     -73.9494781494     40.7767639160                  N            760  \n",
       "1458638     -73.9891662598     40.7573928833                  N            414  \n",
       "1458639     -73.9949111938     40.7401695251                  N            778  \n",
       "1458640     -73.9701843262     40.7965469360                  N            655  \n",
       "1458641     -74.0044326782     40.7073707581                  N            764  \n",
       "1458642     -73.9746322632     40.7571067810                  N            373  \n",
       "1458643     -73.9728088379     40.7905845642                  N            198  \n",
       "\n",
       "[1458644 rows x 11 columns]"
      ]
     },
     "execution_count": 5,
     "metadata": {},
     "output_type": "execute_result"
    }
   ],
   "source": [
    "train_orig_df"
   ]
  },
  {
   "cell_type": "code",
   "execution_count": 6,
   "metadata": {},
   "outputs": [
    {
     "data": {
      "text/html": [
       "<div>\n",
       "<style>\n",
       "    .dataframe thead tr:only-child th {\n",
       "        text-align: right;\n",
       "    }\n",
       "\n",
       "    .dataframe thead th {\n",
       "        text-align: left;\n",
       "    }\n",
       "\n",
       "    .dataframe tbody tr th {\n",
       "        vertical-align: top;\n",
       "    }\n",
       "</style>\n",
       "<table border=\"1\" class=\"dataframe\">\n",
       "  <thead>\n",
       "    <tr style=\"text-align: right;\">\n",
       "      <th></th>\n",
       "      <th>id</th>\n",
       "      <th>vendor_id</th>\n",
       "      <th>pickup_datetime</th>\n",
       "      <th>passenger_count</th>\n",
       "      <th>pickup_longitude</th>\n",
       "      <th>pickup_latitude</th>\n",
       "      <th>dropoff_longitude</th>\n",
       "      <th>dropoff_latitude</th>\n",
       "      <th>store_and_fwd_flag</th>\n",
       "    </tr>\n",
       "  </thead>\n",
       "  <tbody>\n",
       "    <tr>\n",
       "      <th>75670</th>\n",
       "      <td>id0648239</td>\n",
       "      <td>1</td>\n",
       "      <td>2016-06-08 08:43:14</td>\n",
       "      <td>1</td>\n",
       "      <td>-73.9912719727</td>\n",
       "      <td>40.7300109863</td>\n",
       "      <td>-73.9822006226</td>\n",
       "      <td>40.7570266724</td>\n",
       "      <td>N</td>\n",
       "    </tr>\n",
       "    <tr>\n",
       "      <th>65223</th>\n",
       "      <td>id0649476</td>\n",
       "      <td>1</td>\n",
       "      <td>2016-06-11 02:10:05</td>\n",
       "      <td>2</td>\n",
       "      <td>-74.0037002563</td>\n",
       "      <td>40.7433967590</td>\n",
       "      <td>-74.0135726929</td>\n",
       "      <td>40.7079238892</td>\n",
       "      <td>N</td>\n",
       "    </tr>\n",
       "    <tr>\n",
       "      <th>197557</th>\n",
       "      <td>id1585328</td>\n",
       "      <td>2</td>\n",
       "      <td>2016-05-04 00:14:56</td>\n",
       "      <td>2</td>\n",
       "      <td>-73.9488906860</td>\n",
       "      <td>40.7817802429</td>\n",
       "      <td>-73.9550018311</td>\n",
       "      <td>40.7734107971</td>\n",
       "      <td>N</td>\n",
       "    </tr>\n",
       "    <tr>\n",
       "      <th>165251</th>\n",
       "      <td>id2515241</td>\n",
       "      <td>2</td>\n",
       "      <td>2016-05-12 23:09:46</td>\n",
       "      <td>1</td>\n",
       "      <td>-73.9888458252</td>\n",
       "      <td>40.7584533691</td>\n",
       "      <td>-73.9663162231</td>\n",
       "      <td>40.8007469177</td>\n",
       "      <td>N</td>\n",
       "    </tr>\n",
       "    <tr>\n",
       "      <th>139999</th>\n",
       "      <td>id2751181</td>\n",
       "      <td>2</td>\n",
       "      <td>2016-05-19 22:42:04</td>\n",
       "      <td>1</td>\n",
       "      <td>-73.9961013794</td>\n",
       "      <td>40.7344017029</td>\n",
       "      <td>-73.9803314209</td>\n",
       "      <td>40.7739486694</td>\n",
       "      <td>N</td>\n",
       "    </tr>\n",
       "  </tbody>\n",
       "</table>\n",
       "</div>"
      ],
      "text/plain": [
       "               id  vendor_id      pickup_datetime  passenger_count  \\\n",
       "75670   id0648239          1  2016-06-08 08:43:14                1   \n",
       "65223   id0649476          1  2016-06-11 02:10:05                2   \n",
       "197557  id1585328          2  2016-05-04 00:14:56                2   \n",
       "165251  id2515241          2  2016-05-12 23:09:46                1   \n",
       "139999  id2751181          2  2016-05-19 22:42:04                1   \n",
       "\n",
       "        pickup_longitude  pickup_latitude  dropoff_longitude  \\\n",
       "75670     -73.9912719727    40.7300109863     -73.9822006226   \n",
       "65223     -74.0037002563    40.7433967590     -74.0135726929   \n",
       "197557    -73.9488906860    40.7817802429     -73.9550018311   \n",
       "165251    -73.9888458252    40.7584533691     -73.9663162231   \n",
       "139999    -73.9961013794    40.7344017029     -73.9803314209   \n",
       "\n",
       "        dropoff_latitude store_and_fwd_flag  \n",
       "75670      40.7570266724                  N  \n",
       "65223      40.7079238892                  N  \n",
       "197557     40.7734107971                  N  \n",
       "165251     40.8007469177                  N  \n",
       "139999     40.7739486694                  N  "
      ]
     },
     "execution_count": 6,
     "metadata": {},
     "output_type": "execute_result"
    }
   ],
   "source": [
    "test_orig_df.sample(5)"
   ]
  },
  {
   "cell_type": "markdown",
   "metadata": {},
   "source": [
    "## Making a validation set\n",
    "\n",
    "In order to validate our choice of model, we need to test the model on new data that was not part of the training set.  Since kaggle already uses the term \"test set\" to refer to the data that they use to test submissions, we'll use another common term of \"validation set\" to refer to the data that we set aside for our own testing.\n",
    "\n",
    "For validation, we want to set aside 10% of the training data as a validation set:"
   ]
  },
  {
   "cell_type": "code",
   "execution_count": 7,
   "metadata": {
    "collapsed": true
   },
   "outputs": [],
   "source": [
    "from sklearn.model_selection import ShuffleSplit\n",
    "ss = ShuffleSplit(n_splits=1, test_size=0.10, random_state=59)\n",
    "\n",
    "train_idx, valid_idx = list(ss.split(range(num_train_orig)))[0]"
   ]
  },
  {
   "cell_type": "code",
   "execution_count": 8,
   "metadata": {
    "collapsed": true
   },
   "outputs": [],
   "source": [
    "train_df = train_orig_df.iloc[train_idx]\n",
    "valid_df = train_orig_df.iloc[valid_idx]"
   ]
  },
  {
   "cell_type": "markdown",
   "metadata": {},
   "source": [
    "It's good to do a sanity check that all the dimensions were correct:"
   ]
  },
  {
   "cell_type": "code",
   "execution_count": 9,
   "metadata": {},
   "outputs": [
    {
     "data": {
      "text/plain": [
       "0"
      ]
     },
     "execution_count": 9,
     "metadata": {},
     "output_type": "execute_result"
    }
   ],
   "source": [
    "train_df.shape[0] + valid_df.shape[0] - num_train_orig"
   ]
  },
  {
   "cell_type": "markdown",
   "metadata": {},
   "source": [
    "## Exploratory Data Analysis and New Features\n",
    "\n",
    "We are going to do some exploratory data analysis and generate some new features.  It is convenient to combine training and test sets so that we can apply the same functions to both data sets at the same time.\n",
    "\n",
    "**Caveats**: If we compute mean, standard deviation, etc, we want to compute them from the training set only.  In general, any information derived from the data should only come from the training data. However, must apply same functions to test as we did for training.   We don't want to learn anything from the test data, but the test data must be in exactly the same format as the training data."
   ]
  },
  {
   "cell_type": "code",
   "execution_count": 10,
   "metadata": {
    "collapsed": true
   },
   "outputs": [],
   "source": [
    "num_train = train_df.shape[0] \n",
    "\n",
    "df = pd.concat([train_df, valid_df, test_orig_df])"
   ]
  },
  {
   "cell_type": "code",
   "execution_count": 11,
   "metadata": {},
   "outputs": [
    {
     "data": {
      "text/plain": [
       "(2083778, 11)"
      ]
     },
     "execution_count": 11,
     "metadata": {},
     "output_type": "execute_result"
    }
   ],
   "source": [
    "df.shape"
   ]
  },
  {
   "cell_type": "markdown",
   "metadata": {},
   "source": [
    "We check for missing values:"
   ]
  },
  {
   "cell_type": "code",
   "execution_count": 12,
   "metadata": {},
   "outputs": [
    {
     "data": {
      "text/plain": [
       "dropoff_datetime      625134\n",
       "dropoff_latitude           0\n",
       "dropoff_longitude          0\n",
       "id                         0\n",
       "passenger_count            0\n",
       "pickup_datetime            0\n",
       "pickup_latitude            0\n",
       "pickup_longitude           0\n",
       "store_and_fwd_flag         0\n",
       "trip_duration         625134\n",
       "vendor_id                  0\n",
       "dtype: int64"
      ]
     },
     "execution_count": 12,
     "metadata": {},
     "output_type": "execute_result"
    }
   ],
   "source": [
    "df.isnull().sum()"
   ]
  },
  {
   "cell_type": "markdown",
   "metadata": {},
   "source": [
    "This dataset has no missing values, which is rare for real-world data. Next we check the data types of the features:"
   ]
  },
  {
   "cell_type": "code",
   "execution_count": 13,
   "metadata": {},
   "outputs": [
    {
     "data": {
      "text/plain": [
       "dropoff_datetime       object\n",
       "dropoff_latitude      float64\n",
       "dropoff_longitude     float64\n",
       "id                     object\n",
       "passenger_count         int64\n",
       "pickup_datetime        object\n",
       "pickup_latitude       float64\n",
       "pickup_longitude      float64\n",
       "store_and_fwd_flag     object\n",
       "trip_duration         float64\n",
       "vendor_id               int64\n",
       "dtype: object"
      ]
     },
     "execution_count": 13,
     "metadata": {},
     "output_type": "execute_result"
    }
   ],
   "source": [
    "df.dtypes"
   ]
  },
  {
   "cell_type": "markdown",
   "metadata": {},
   "source": [
    "### Dates\n",
    "\n",
    "We note that the datetimes are stored as `object`s, which is pandas dtype for strings.  Sci-kit learn wants our data to be in numeric form, so we need to convert the date somehow.\n",
    "\n",
    "It will be convenient to store the dates in epoch form, using "
   ]
  },
  {
   "cell_type": "code",
   "execution_count": 14,
   "metadata": {
    "collapsed": true
   },
   "outputs": [],
   "source": [
    "df['pickup_datetime'] = pd.to_datetime(df['pickup_datetime']).astype(np.int64) / 1e9\n",
    "df['dropoff_datetime'] = pd.to_datetime(df['dropoff_datetime']).astype(np.int64) / 1e9"
   ]
  },
  {
   "cell_type": "code",
   "execution_count": 15,
   "metadata": {},
   "outputs": [
    {
     "data": {
      "text/html": [
       "<div>\n",
       "<style>\n",
       "    .dataframe thead tr:only-child th {\n",
       "        text-align: right;\n",
       "    }\n",
       "\n",
       "    .dataframe thead th {\n",
       "        text-align: left;\n",
       "    }\n",
       "\n",
       "    .dataframe tbody tr th {\n",
       "        vertical-align: top;\n",
       "    }\n",
       "</style>\n",
       "<table border=\"1\" class=\"dataframe\">\n",
       "  <thead>\n",
       "    <tr style=\"text-align: right;\">\n",
       "      <th></th>\n",
       "      <th>pickup_datetime</th>\n",
       "      <th>dropoff_datetime</th>\n",
       "    </tr>\n",
       "  </thead>\n",
       "  <tbody>\n",
       "    <tr>\n",
       "      <th>155344</th>\n",
       "      <td>1463323624.0</td>\n",
       "      <td>-9.2233720369e+09</td>\n",
       "    </tr>\n",
       "    <tr>\n",
       "      <th>273519</th>\n",
       "      <td>1457879491.0</td>\n",
       "      <td>1.4578804290e+09</td>\n",
       "    </tr>\n",
       "    <tr>\n",
       "      <th>443426</th>\n",
       "      <td>1456349216.0</td>\n",
       "      <td>-9.2233720369e+09</td>\n",
       "    </tr>\n",
       "    <tr>\n",
       "      <th>277213</th>\n",
       "      <td>1460375772.0</td>\n",
       "      <td>-9.2233720369e+09</td>\n",
       "    </tr>\n",
       "    <tr>\n",
       "      <th>914893</th>\n",
       "      <td>1453040817.0</td>\n",
       "      <td>1.4530413070e+09</td>\n",
       "    </tr>\n",
       "  </tbody>\n",
       "</table>\n",
       "</div>"
      ],
      "text/plain": [
       "        pickup_datetime  dropoff_datetime\n",
       "155344     1463323624.0 -9.2233720369e+09\n",
       "273519     1457879491.0  1.4578804290e+09\n",
       "443426     1456349216.0 -9.2233720369e+09\n",
       "277213     1460375772.0 -9.2233720369e+09\n",
       "914893     1453040817.0  1.4530413070e+09"
      ]
     },
     "execution_count": 15,
     "metadata": {},
     "output_type": "execute_result"
    }
   ],
   "source": [
    "df[['pickup_datetime','dropoff_datetime']].sample(5)"
   ]
  },
  {
   "cell_type": "code",
   "execution_count": 16,
   "metadata": {},
   "outputs": [
    {
     "data": {
      "text/plain": [
       "pickup_datetime     float64\n",
       "dropoff_datetime    float64\n",
       "dtype: object"
      ]
     },
     "execution_count": 16,
     "metadata": {},
     "output_type": "execute_result"
    }
   ],
   "source": [
    "df[['pickup_datetime','dropoff_datetime']].dtypes"
   ]
  },
  {
   "cell_type": "markdown",
   "metadata": {},
   "source": [
    "**Note:** There is a lot of information in the date. In a more serious analysis, we should be computing new features based on whether the date is a weekday or a weekend,  the time of day, etc.\n",
    "\n",
    "Furthermore, since we are trying to predict the trip duration, it is potentially problematic to include both the pickup and dropoff times in the features, since the trip duration is given by the difference of these.  The model we apply below doesn't do a good job of picking up this relationship, but this requires further study."
   ]
  },
  {
   "cell_type": "markdown",
   "metadata": {},
   "source": [
    "### Categorical Features\n",
    "\n",
    "The feature `store_and_fwd_flag` was also an object:"
   ]
  },
  {
   "cell_type": "code",
   "execution_count": 17,
   "metadata": {},
   "outputs": [
    {
     "data": {
      "text/plain": [
       "N    2072303\n",
       "Y      11475\n",
       "Name: store_and_fwd_flag, dtype: int64"
      ]
     },
     "execution_count": 17,
     "metadata": {},
     "output_type": "execute_result"
    }
   ],
   "source": [
    "df['store_and_fwd_flag'].value_counts()"
   ]
  },
  {
   "cell_type": "markdown",
   "metadata": {},
   "source": [
    "The simplest way to deal with this is to just convert to a binary using N=0 and Y=1:"
   ]
  },
  {
   "cell_type": "code",
   "execution_count": 18,
   "metadata": {
    "collapsed": true
   },
   "outputs": [],
   "source": [
    "df['store_and_fwd_flag'] = 1*(df['store_and_fwd_flag']=='Y')"
   ]
  },
  {
   "cell_type": "markdown",
   "metadata": {},
   "source": [
    "Note, we've used the python behavior that:"
   ]
  },
  {
   "cell_type": "code",
   "execution_count": 19,
   "metadata": {},
   "outputs": [
    {
     "name": "stdout",
     "output_type": "stream",
     "text": [
      "1\n",
      "0\n"
     ]
    }
   ],
   "source": [
    "print(1*True)\n",
    "print(1*False)"
   ]
  },
  {
   "cell_type": "markdown",
   "metadata": {},
   "source": [
    "The feature `vendor_id` is a categorical variable that's been stored as an integer:"
   ]
  },
  {
   "cell_type": "code",
   "execution_count": 20,
   "metadata": {},
   "outputs": [
    {
     "data": {
      "text/plain": [
       "2    1114676\n",
       "1     969102\n",
       "Name: vendor_id, dtype: int64"
      ]
     },
     "execution_count": 20,
     "metadata": {},
     "output_type": "execute_result"
    }
   ],
   "source": [
    "df['vendor_id'].astype(str).value_counts()"
   ]
  },
  {
   "cell_type": "markdown",
   "metadata": {},
   "source": [
    "We'll also convert this to binary, since some ML techniques might otherwise assign significance to the different numerical values:"
   ]
  },
  {
   "cell_type": "code",
   "execution_count": 21,
   "metadata": {
    "collapsed": true
   },
   "outputs": [],
   "source": [
    "df['vendor_id'] = 1*(df['vendor_id'] == 1)"
   ]
  },
  {
   "cell_type": "markdown",
   "metadata": {},
   "source": [
    "### New features: Ride distance\n",
    "\n",
    "Next, we'll generate two new features based on the distance of the pickup and dropoff points.  We don't care what units these are in, so we'll just compute them from the latitudes and longitudes. We will use both the Euclidean, or L2 distance and the Taxicab, or L1 distance:\n",
    "\n",
    "![Taxicab distance](Manhattan_distance.svg.png)\n",
    "\n",
    "For this we can use a norm function from numpy:"
   ]
  },
  {
   "cell_type": "code",
   "execution_count": 22,
   "metadata": {
    "collapsed": true
   },
   "outputs": [],
   "source": [
    "def lp_dist(x, p=2):\n",
    "    displacement = np.array(x[2] - x[0], x[3] - x[1])\n",
    "    return np.linalg.norm(displacement, ord=p)"
   ]
  },
  {
   "cell_type": "code",
   "execution_count": 23,
   "metadata": {},
   "outputs": [
    {
     "data": {
      "text/html": [
       "<div>\n",
       "<style>\n",
       "    .dataframe thead tr:only-child th {\n",
       "        text-align: right;\n",
       "    }\n",
       "\n",
       "    .dataframe thead th {\n",
       "        text-align: left;\n",
       "    }\n",
       "\n",
       "    .dataframe tbody tr th {\n",
       "        vertical-align: top;\n",
       "    }\n",
       "</style>\n",
       "<table border=\"1\" class=\"dataframe\">\n",
       "  <thead>\n",
       "    <tr style=\"text-align: right;\">\n",
       "      <th></th>\n",
       "      <th>pickup_longitude</th>\n",
       "      <th>pickup_latitude</th>\n",
       "      <th>dropoff_longitude</th>\n",
       "      <th>dropoff_latitude</th>\n",
       "    </tr>\n",
       "  </thead>\n",
       "  <tbody>\n",
       "    <tr>\n",
       "      <th>672790</th>\n",
       "      <td>-73.9540023804</td>\n",
       "      <td>40.7821731567</td>\n",
       "      <td>-73.9581909180</td>\n",
       "      <td>40.7688751221</td>\n",
       "    </tr>\n",
       "    <tr>\n",
       "      <th>1290607</th>\n",
       "      <td>-73.9618148804</td>\n",
       "      <td>40.7560882568</td>\n",
       "      <td>-73.9637985229</td>\n",
       "      <td>40.7711486816</td>\n",
       "    </tr>\n",
       "    <tr>\n",
       "      <th>371136</th>\n",
       "      <td>-73.9641265869</td>\n",
       "      <td>40.7613296509</td>\n",
       "      <td>-73.9609298706</td>\n",
       "      <td>40.7753753662</td>\n",
       "    </tr>\n",
       "    <tr>\n",
       "      <th>1132296</th>\n",
       "      <td>-73.9849243164</td>\n",
       "      <td>40.7742538452</td>\n",
       "      <td>-73.9775772095</td>\n",
       "      <td>40.7920379639</td>\n",
       "    </tr>\n",
       "    <tr>\n",
       "      <th>1194156</th>\n",
       "      <td>-74.0160140991</td>\n",
       "      <td>40.7153129578</td>\n",
       "      <td>-74.1773071289</td>\n",
       "      <td>40.6950073242</td>\n",
       "    </tr>\n",
       "  </tbody>\n",
       "</table>\n",
       "</div>"
      ],
      "text/plain": [
       "         pickup_longitude  pickup_latitude  dropoff_longitude  \\\n",
       "672790     -73.9540023804    40.7821731567     -73.9581909180   \n",
       "1290607    -73.9618148804    40.7560882568     -73.9637985229   \n",
       "371136     -73.9641265869    40.7613296509     -73.9609298706   \n",
       "1132296    -73.9849243164    40.7742538452     -73.9775772095   \n",
       "1194156    -74.0160140991    40.7153129578     -74.1773071289   \n",
       "\n",
       "         dropoff_latitude  \n",
       "672790      40.7688751221  \n",
       "1290607     40.7711486816  \n",
       "371136      40.7753753662  \n",
       "1132296     40.7920379639  \n",
       "1194156     40.6950073242  "
      ]
     },
     "execution_count": 23,
     "metadata": {},
     "output_type": "execute_result"
    }
   ],
   "source": [
    "df[['pickup_longitude','pickup_latitude','dropoff_longitude','dropoff_latitude']].head(5)"
   ]
  },
  {
   "cell_type": "code",
   "execution_count": 24,
   "metadata": {},
   "outputs": [
    {
     "data": {
      "text/plain": [
       "array([ 119.43322527,  119.43340758,  119.43629432,  119.4695823 ,\n",
       "        119.5594562 ])"
      ]
     },
     "execution_count": 24,
     "metadata": {},
     "output_type": "execute_result"
    }
   ],
   "source": [
    "np.linalg.norm(df[['pickup_longitude','pickup_latitude','dropoff_longitude','dropoff_latitude']], ord=2, axis=1)[:5]"
   ]
  },
  {
   "cell_type": "code",
   "execution_count": 25,
   "metadata": {
    "collapsed": true
   },
   "outputs": [],
   "source": [
    "df['l2_dist'] = np.linalg.norm(df[['pickup_longitude','pickup_latitude','dropoff_longitude','dropoff_latitude']], \n",
    "                               ord=2, axis=1)\n",
    "df['l1_dist'] = np.linalg.norm(df[['pickup_longitude','pickup_latitude','dropoff_longitude','dropoff_latitude']], \n",
    "                               ord=1, axis=1)"
   ]
  },
  {
   "cell_type": "code",
   "execution_count": 26,
   "metadata": {},
   "outputs": [
    {
     "data": {
      "text/html": [
       "<div>\n",
       "<style>\n",
       "    .dataframe thead tr:only-child th {\n",
       "        text-align: right;\n",
       "    }\n",
       "\n",
       "    .dataframe thead th {\n",
       "        text-align: left;\n",
       "    }\n",
       "\n",
       "    .dataframe tbody tr th {\n",
       "        vertical-align: top;\n",
       "    }\n",
       "</style>\n",
       "<table border=\"1\" class=\"dataframe\">\n",
       "  <thead>\n",
       "    <tr style=\"text-align: right;\">\n",
       "      <th></th>\n",
       "      <th>l2_dist</th>\n",
       "      <th>l1_dist</th>\n",
       "    </tr>\n",
       "  </thead>\n",
       "  <tbody>\n",
       "    <tr>\n",
       "      <th>672790</th>\n",
       "      <td>119.4332252685</td>\n",
       "      <td>229.4632415771</td>\n",
       "    </tr>\n",
       "    <tr>\n",
       "      <th>1290607</th>\n",
       "      <td>119.4334075841</td>\n",
       "      <td>229.4528503418</td>\n",
       "    </tr>\n",
       "    <tr>\n",
       "      <th>371136</th>\n",
       "      <td>119.4362943173</td>\n",
       "      <td>229.4617614746</td>\n",
       "    </tr>\n",
       "    <tr>\n",
       "      <th>1132296</th>\n",
       "      <td>119.4695822951</td>\n",
       "      <td>229.5287933350</td>\n",
       "    </tr>\n",
       "    <tr>\n",
       "      <th>1194156</th>\n",
       "      <td>119.5594561981</td>\n",
       "      <td>229.6036415100</td>\n",
       "    </tr>\n",
       "  </tbody>\n",
       "</table>\n",
       "</div>"
      ],
      "text/plain": [
       "                l2_dist         l1_dist\n",
       "672790   119.4332252685  229.4632415771\n",
       "1290607  119.4334075841  229.4528503418\n",
       "371136   119.4362943173  229.4617614746\n",
       "1132296  119.4695822951  229.5287933350\n",
       "1194156  119.5594561981  229.6036415100"
      ]
     },
     "execution_count": 26,
     "metadata": {},
     "output_type": "execute_result"
    }
   ],
   "source": [
    "df[['l2_dist', 'l1_dist']].head(5)"
   ]
  },
  {
   "cell_type": "markdown",
   "metadata": {},
   "source": [
    "### Skewed variables\n",
    "\n",
    "Finally, we note that the `trip_duration` target is highly skewed:"
   ]
  },
  {
   "cell_type": "code",
   "execution_count": 27,
   "metadata": {},
   "outputs": [
    {
     "name": "stdout",
     "output_type": "stream",
     "text": [
      "959.49227296\n",
      "5237.4317245\n"
     ]
    }
   ],
   "source": [
    "print(df['trip_duration'].mean())\n",
    "print(df['trip_duration'].std())"
   ]
  },
  {
   "cell_type": "code",
   "execution_count": 28,
   "metadata": {},
   "outputs": [
    {
     "data": {
      "text/plain": [
       "<matplotlib.axes._subplots.AxesSubplot at 0x7fee2e972fd0>"
      ]
     },
     "execution_count": 28,
     "metadata": {},
     "output_type": "execute_result"
    },
    {
     "data": {
      "image/png": "[encoded data removed]",
      "text/plain": [
       "<matplotlib.figure.Figure at 0x7fee2e9728d0>"
      ]
     },
     "metadata": {},
     "output_type": "display_data"
    }
   ],
   "source": [
    "df['trip_duration'].hist(figsize=(10,10))"
   ]
  },
  {
   "cell_type": "code",
   "execution_count": 29,
   "metadata": {},
   "outputs": [
    {
     "data": {
      "text/plain": [
       "<matplotlib.axes._subplots.AxesSubplot at 0x7fee359e66d8>"
      ]
     },
     "execution_count": 29,
     "metadata": {},
     "output_type": "execute_result"
    },
    {
     "data": {
      "image/png": "[encoded data removed]",
      "text/plain": [
       "<matplotlib.figure.Figure at 0x7fee359c2a90>"
      ]
     },
     "metadata": {},
     "output_type": "display_data"
    }
   ],
   "source": [
    "np.log(1+df['trip_duration']).hist(figsize=(10,10))"
   ]
  },
  {
   "cell_type": "markdown",
   "metadata": {},
   "source": [
    "We see that the logarithm is much more normally distributed.  This is a common transformation to deskew data, and actually corresponds to the metric that kaggle is using to score this competition. "
   ]
  },
  {
   "cell_type": "code",
   "execution_count": 30,
   "metadata": {
    "collapsed": true
   },
   "outputs": [],
   "source": [
    "df['trip_duration'] = np.log(1+df['trip_duration'])"
   ]
  },
  {
   "cell_type": "markdown",
   "metadata": {},
   "source": [
    "Generally we will want to do much more data exploration and consider creating many more new features.  For now, since we have no missing data, we want to complete an end-to-end model and test predictions.\n",
    "\n",
    "## From dataframe to numpy arrays\n",
    "\n",
    "We will define training, validation and test sets:"
   ]
  },
  {
   "cell_type": "code",
   "execution_count": 31,
   "metadata": {},
   "outputs": [
    {
     "data": {
      "text/html": [
       "<div>\n",
       "<style>\n",
       "    .dataframe thead tr:only-child th {\n",
       "        text-align: right;\n",
       "    }\n",
       "\n",
       "    .dataframe thead th {\n",
       "        text-align: left;\n",
       "    }\n",
       "\n",
       "    .dataframe tbody tr th {\n",
       "        vertical-align: top;\n",
       "    }\n",
       "</style>\n",
       "<table border=\"1\" class=\"dataframe\">\n",
       "  <thead>\n",
       "    <tr style=\"text-align: right;\">\n",
       "      <th></th>\n",
       "      <th>dropoff_latitude</th>\n",
       "      <th>dropoff_longitude</th>\n",
       "      <th>passenger_count</th>\n",
       "      <th>pickup_datetime</th>\n",
       "      <th>pickup_latitude</th>\n",
       "      <th>pickup_longitude</th>\n",
       "      <th>store_and_fwd_flag</th>\n",
       "      <th>vendor_id</th>\n",
       "      <th>l2_dist</th>\n",
       "      <th>l1_dist</th>\n",
       "    </tr>\n",
       "  </thead>\n",
       "  <tbody>\n",
       "    <tr>\n",
       "      <th>50940</th>\n",
       "      <td>40.7053718567</td>\n",
       "      <td>-74.0164566040</td>\n",
       "      <td>1</td>\n",
       "      <td>1459155941.0</td>\n",
       "      <td>40.7587814331</td>\n",
       "      <td>-73.9832382202</td>\n",
       "      <td>0</td>\n",
       "      <td>0</td>\n",
       "      <td>119.4577789332</td>\n",
       "      <td>229.4638481140</td>\n",
       "    </tr>\n",
       "    <tr>\n",
       "      <th>1331859</th>\n",
       "      <td>40.7383689880</td>\n",
       "      <td>-73.9874420166</td>\n",
       "      <td>1</td>\n",
       "      <td>1463077831.0</td>\n",
       "      <td>40.7382507324</td>\n",
       "      <td>-73.9875488281</td>\n",
       "      <td>0</td>\n",
       "      <td>0</td>\n",
       "      <td>119.4467192446</td>\n",
       "      <td>229.4516105652</td>\n",
       "    </tr>\n",
       "    <tr>\n",
       "      <th>980901</th>\n",
       "      <td>40.8035316467</td>\n",
       "      <td>-73.9648208618</td>\n",
       "      <td>2</td>\n",
       "      <td>1465996873.0</td>\n",
       "      <td>40.7737998962</td>\n",
       "      <td>-73.9515609741</td>\n",
       "      <td>0</td>\n",
       "      <td>0</td>\n",
       "      <td>119.4447949827</td>\n",
       "      <td>229.4937133789</td>\n",
       "    </tr>\n",
       "    <tr>\n",
       "      <th>1211372</th>\n",
       "      <td>40.7241744995</td>\n",
       "      <td>-74.0008239746</td>\n",
       "      <td>1</td>\n",
       "      <td>1461697200.0</td>\n",
       "      <td>40.7423019409</td>\n",
       "      <td>-73.9951019287</td>\n",
       "      <td>0</td>\n",
       "      <td>1</td>\n",
       "      <td>119.4562288643</td>\n",
       "      <td>229.4624023438</td>\n",
       "    </tr>\n",
       "    <tr>\n",
       "      <th>1381547</th>\n",
       "      <td>40.7653007507</td>\n",
       "      <td>-73.9542694092</td>\n",
       "      <td>1</td>\n",
       "      <td>1464204443.0</td>\n",
       "      <td>40.7669715881</td>\n",
       "      <td>-73.9789657593</td>\n",
       "      <td>0</td>\n",
       "      <td>1</td>\n",
       "      <td>119.4398470211</td>\n",
       "      <td>229.4655075073</td>\n",
       "    </tr>\n",
       "  </tbody>\n",
       "</table>\n",
       "</div>"
      ],
      "text/plain": [
       "         dropoff_latitude  dropoff_longitude  passenger_count  \\\n",
       "50940       40.7053718567     -74.0164566040                1   \n",
       "1331859     40.7383689880     -73.9874420166                1   \n",
       "980901      40.8035316467     -73.9648208618                2   \n",
       "1211372     40.7241744995     -74.0008239746                1   \n",
       "1381547     40.7653007507     -73.9542694092                1   \n",
       "\n",
       "         pickup_datetime  pickup_latitude  pickup_longitude  \\\n",
       "50940       1459155941.0    40.7587814331    -73.9832382202   \n",
       "1331859     1463077831.0    40.7382507324    -73.9875488281   \n",
       "980901      1465996873.0    40.7737998962    -73.9515609741   \n",
       "1211372     1461697200.0    40.7423019409    -73.9951019287   \n",
       "1381547     1464204443.0    40.7669715881    -73.9789657593   \n",
       "\n",
       "         store_and_fwd_flag  vendor_id         l2_dist         l1_dist  \n",
       "50940                     0          0  119.4577789332  229.4638481140  \n",
       "1331859                   0          0  119.4467192446  229.4516105652  \n",
       "980901                    0          0  119.4447949827  229.4937133789  \n",
       "1211372                   0          1  119.4562288643  229.4624023438  \n",
       "1381547                   0          1  119.4398470211  229.4655075073  "
      ]
     },
     "execution_count": 31,
     "metadata": {},
     "output_type": "execute_result"
    }
   ],
   "source": [
    "df.iloc[train_idx].drop(['id','dropoff_datetime','trip_duration'], axis=1).head(5)"
   ]
  },
  {
   "cell_type": "code",
   "execution_count": 32,
   "metadata": {},
   "outputs": [
    {
     "data": {
      "text/plain": [
       "array([ 6.37672695,  6.33150185,  6.5366916 , ...,  5.57215403,\n",
       "        5.05624581,  6.47234629])"
      ]
     },
     "execution_count": 32,
     "metadata": {},
     "output_type": "execute_result"
    }
   ],
   "source": [
    "df.loc[train_idx, 'trip_duration'].values"
   ]
  },
  {
   "cell_type": "code",
   "execution_count": 33,
   "metadata": {},
   "outputs": [
    {
     "data": {
      "text/html": [
       "<div>\n",
       "<style>\n",
       "    .dataframe thead tr:only-child th {\n",
       "        text-align: right;\n",
       "    }\n",
       "\n",
       "    .dataframe thead th {\n",
       "        text-align: left;\n",
       "    }\n",
       "\n",
       "    .dataframe tbody tr th {\n",
       "        vertical-align: top;\n",
       "    }\n",
       "</style>\n",
       "<table border=\"1\" class=\"dataframe\">\n",
       "  <thead>\n",
       "    <tr style=\"text-align: right;\">\n",
       "      <th></th>\n",
       "      <th>dropoff_datetime</th>\n",
       "      <th>dropoff_latitude</th>\n",
       "      <th>dropoff_longitude</th>\n",
       "      <th>id</th>\n",
       "      <th>passenger_count</th>\n",
       "      <th>pickup_datetime</th>\n",
       "      <th>pickup_latitude</th>\n",
       "      <th>pickup_longitude</th>\n",
       "      <th>store_and_fwd_flag</th>\n",
       "      <th>trip_duration</th>\n",
       "      <th>vendor_id</th>\n",
       "      <th>l2_dist</th>\n",
       "      <th>l1_dist</th>\n",
       "    </tr>\n",
       "  </thead>\n",
       "  <tbody>\n",
       "    <tr>\n",
       "      <th>0</th>\n",
       "      <td>-9.2233720369e+09</td>\n",
       "      <td>40.7566795349</td>\n",
       "      <td>-73.9901733398</td>\n",
       "      <td>id3004672</td>\n",
       "      <td>1</td>\n",
       "      <td>1467331198.0</td>\n",
       "      <td>40.7320289612</td>\n",
       "      <td>-73.9881286621</td>\n",
       "      <td>0</td>\n",
       "      <td>NaN</td>\n",
       "      <td>1</td>\n",
       "      <td>119.4528946647</td>\n",
       "      <td>229.4670104980</td>\n",
       "    </tr>\n",
       "    <tr>\n",
       "      <th>1</th>\n",
       "      <td>-9.2233720369e+09</td>\n",
       "      <td>40.6554031372</td>\n",
       "      <td>-73.9598083496</td>\n",
       "      <td>id3505355</td>\n",
       "      <td>1</td>\n",
       "      <td>1467331193.0</td>\n",
       "      <td>40.6799926758</td>\n",
       "      <td>-73.9642028809</td>\n",
       "      <td>0</td>\n",
       "      <td>NaN</td>\n",
       "      <td>1</td>\n",
       "      <td>119.3669978146</td>\n",
       "      <td>229.2594070435</td>\n",
       "    </tr>\n",
       "    <tr>\n",
       "      <th>2</th>\n",
       "      <td>-9.2233720369e+09</td>\n",
       "      <td>40.7295227051</td>\n",
       "      <td>-73.9861602783</td>\n",
       "      <td>id1217141</td>\n",
       "      <td>1</td>\n",
       "      <td>1467331187.0</td>\n",
       "      <td>40.7375831604</td>\n",
       "      <td>-73.9974365234</td>\n",
       "      <td>0</td>\n",
       "      <td>NaN</td>\n",
       "      <td>1</td>\n",
       "      <td>119.4488058806</td>\n",
       "      <td>229.4507026672</td>\n",
       "    </tr>\n",
       "    <tr>\n",
       "      <th>3</th>\n",
       "      <td>-9.2233720369e+09</td>\n",
       "      <td>40.7304687500</td>\n",
       "      <td>-73.9864273071</td>\n",
       "      <td>id2150126</td>\n",
       "      <td>1</td>\n",
       "      <td>1467331181.0</td>\n",
       "      <td>40.7719001770</td>\n",
       "      <td>-73.9560699463</td>\n",
       "      <td>0</td>\n",
       "      <td>NaN</td>\n",
       "      <td>0</td>\n",
       "      <td>119.4353826812</td>\n",
       "      <td>229.4448661804</td>\n",
       "    </tr>\n",
       "    <tr>\n",
       "      <th>4</th>\n",
       "      <td>-9.2233720369e+09</td>\n",
       "      <td>40.7558898926</td>\n",
       "      <td>-73.9615097046</td>\n",
       "      <td>id1598245</td>\n",
       "      <td>1</td>\n",
       "      <td>1467331173.0</td>\n",
       "      <td>40.7614746094</td>\n",
       "      <td>-73.9702148438</td>\n",
       "      <td>0</td>\n",
       "      <td>NaN</td>\n",
       "      <td>1</td>\n",
       "      <td>119.4338225758</td>\n",
       "      <td>229.4490890503</td>\n",
       "    </tr>\n",
       "  </tbody>\n",
       "</table>\n",
       "</div>"
      ],
      "text/plain": [
       "   dropoff_datetime  dropoff_latitude  dropoff_longitude         id  \\\n",
       "0 -9.2233720369e+09     40.7566795349     -73.9901733398  id3004672   \n",
       "1 -9.2233720369e+09     40.6554031372     -73.9598083496  id3505355   \n",
       "2 -9.2233720369e+09     40.7295227051     -73.9861602783  id1217141   \n",
       "3 -9.2233720369e+09     40.7304687500     -73.9864273071  id2150126   \n",
       "4 -9.2233720369e+09     40.7558898926     -73.9615097046  id1598245   \n",
       "\n",
       "   passenger_count  pickup_datetime  pickup_latitude  pickup_longitude  \\\n",
       "0                1     1467331198.0    40.7320289612    -73.9881286621   \n",
       "1                1     1467331193.0    40.6799926758    -73.9642028809   \n",
       "2                1     1467331187.0    40.7375831604    -73.9974365234   \n",
       "3                1     1467331181.0    40.7719001770    -73.9560699463   \n",
       "4                1     1467331173.0    40.7614746094    -73.9702148438   \n",
       "\n",
       "   store_and_fwd_flag  trip_duration  vendor_id         l2_dist  \\\n",
       "0                   0            NaN          1  119.4528946647   \n",
       "1                   0            NaN          1  119.3669978146   \n",
       "2                   0            NaN          1  119.4488058806   \n",
       "3                   0            NaN          0  119.4353826812   \n",
       "4                   0            NaN          1  119.4338225758   \n",
       "\n",
       "          l1_dist  \n",
       "0  229.4670104980  \n",
       "1  229.2594070435  \n",
       "2  229.4507026672  \n",
       "3  229.4448661804  \n",
       "4  229.4490890503  "
      ]
     },
     "execution_count": 33,
     "metadata": {},
     "output_type": "execute_result"
    }
   ],
   "source": [
    "df.iloc[num_train_orig:].head(5)"
   ]
  },
  {
   "cell_type": "code",
   "execution_count": 34,
   "metadata": {
    "collapsed": true
   },
   "outputs": [],
   "source": [
    "x_train = df.iloc[train_idx].drop(['id','dropoff_datetime','trip_duration'], axis=1).values\n",
    "y_train = df.iloc[train_idx]['trip_duration'].values\n",
    "\n",
    "x_valid = df.iloc[valid_idx].drop(['id','dropoff_datetime','trip_duration'], axis=1).values\n",
    "y_valid = df.iloc[valid_idx]['trip_duration'].values\n",
    "\n",
    "x_test = df.iloc[num_train_orig:].drop(['id','dropoff_datetime','trip_duration'], axis=1).values"
   ]
  },
  {
   "cell_type": "code",
   "execution_count": 35,
   "metadata": {},
   "outputs": [
    {
     "name": "stdout",
     "output_type": "stream",
     "text": [
      "(1312779, 10)\n",
      "(1312779,)\n",
      "(145865, 10)\n",
      "(145865,)\n",
      "(625134, 10)\n"
     ]
    }
   ],
   "source": [
    "print(x_train.shape)\n",
    "print(y_train.shape)\n",
    "\n",
    "print(x_valid.shape)\n",
    "print(y_valid.shape)\n",
    "\n",
    "print(x_test.shape)"
   ]
  },
  {
   "cell_type": "markdown",
   "metadata": {},
   "source": [
    "## Preprocessing\n",
    "\n",
    "Some machine learning techniques work best when all of the features vary over the same scale.  Therefore, we'll use the MaxAbsScaler, which will not change our binary features."
   ]
  },
  {
   "cell_type": "code",
   "execution_count": 36,
   "metadata": {
    "collapsed": true
   },
   "outputs": [],
   "source": [
    "from sklearn.preprocessing import MaxAbsScaler"
   ]
  },
  {
   "cell_type": "code",
   "execution_count": 37,
   "metadata": {},
   "outputs": [
    {
     "data": {
      "text/plain": [
       "MaxAbsScaler(copy=True)"
      ]
     },
     "execution_count": 37,
     "metadata": {},
     "output_type": "execute_result"
    }
   ],
   "source": [
    "ma_scale = MaxAbsScaler()\n",
    "\n",
    "ma_scale.fit(x_train)"
   ]
  },
  {
   "cell_type": "code",
   "execution_count": 38,
   "metadata": {},
   "outputs": [
    {
     "data": {
      "text/plain": [
       "array([[ 0.9267855 , -0.60702412,  0.11111111,  0.9944285 ,  0.7856193 ,\n",
       "        -0.6067515 ,  0.        ,  0.        ,  0.66231254,  0.72012258],\n",
       "       [ 0.92753678, -0.60678617,  0.11111111,  0.9971013 ,  0.78522358,\n",
       "        -0.60678685,  0.        ,  0.        ,  0.66225122,  0.72008418],\n",
       "       [ 0.92902041, -0.60660065,  0.22222222,  0.99909066,  0.78590878,\n",
       "        -0.60649171,  0.        ,  0.        ,  0.66224056,  0.72021631],\n",
       "       [ 0.9272136 , -0.60689591,  0.11111111,  0.99616039,  0.78530166,\n",
       "        -0.6068488 ,  0.        ,  1.        ,  0.66230395,  0.72011805],\n",
       "       [ 0.92814997, -0.60651411,  0.11111111,  0.9978691 ,  0.78577717,\n",
       "        -0.60671646,  0.        ,  1.        ,  0.66221312,  0.72012779]])"
      ]
     },
     "execution_count": 38,
     "metadata": {},
     "output_type": "execute_result"
    }
   ],
   "source": [
    "ma_scale.transform(x_train)[:5]"
   ]
  },
  {
   "cell_type": "markdown",
   "metadata": {},
   "source": [
    "## Model: Decision Trees, Random Forests\n",
    "\n",
    "For a model, we will start off simple, using Decision Trees. Let's look at some fictious data:"
   ]
  },
  {
   "cell_type": "code",
   "execution_count": 39,
   "metadata": {},
   "outputs": [
    {
     "data": {
      "image/png": "[encoded data removed]",
      "text/plain": [
       "<matplotlib.figure.Figure at 0x7fee2e96c9b0>"
      ]
     },
     "metadata": {},
     "output_type": "display_data"
    }
   ],
   "source": [
    "n_fake = 1000\n",
    "\n",
    "plt.figure(figsize=(10,10))\n",
    "X = np.linspace(0,10,n_fake)\n",
    "Y = np.log(X+1) + np.random.normal(scale=0.1,size=n_fake)\n",
    "plt.scatter(X, Y)\n",
    "plt.xlabel(\"x\")\n",
    "plt.ylabel(\"y\")\n",
    "plt.show()"
   ]
  },
  {
   "cell_type": "markdown",
   "metadata": {},
   "source": [
    "This data is clearly nonlinear, but a linear fit might be a reasonable first choice. This is easy in sci-kit learn:"
   ]
  },
  {
   "cell_type": "code",
   "execution_count": 40,
   "metadata": {},
   "outputs": [
    {
     "data": {
      "text/plain": [
       "LinearRegression(copy_X=True, fit_intercept=True, n_jobs=1, normalize=False)"
      ]
     },
     "execution_count": 40,
     "metadata": {},
     "output_type": "execute_result"
    }
   ],
   "source": [
    "from sklearn import linear_model\n",
    "ls = linear_model.LinearRegression()\n",
    "ls.fit(X.reshape(-1, 1), Y)"
   ]
  },
  {
   "cell_type": "code",
   "execution_count": 41,
   "metadata": {},
   "outputs": [
    {
     "data": {
      "image/png": "[encoded data removed]",
      "text/plain": [
       "<matplotlib.figure.Figure at 0x7fee33ad36d8>"
      ]
     },
     "metadata": {},
     "output_type": "display_data"
    }
   ],
   "source": [
    "plt.figure(figsize=(10,10))\n",
    "plt.scatter(X, Y)\n",
    "plt.plot(X,ls.predict(X.reshape(-1, 1)), color='k')\n",
    "plt.xlabel(\"x\")\n",
    "plt.ylabel(\"y\")\n",
    "plt.show()"
   ]
  },
  {
   "cell_type": "markdown",
   "metadata": {},
   "source": [
    "The mean-square error of this model is"
   ]
  },
  {
   "cell_type": "code",
   "execution_count": 42,
   "metadata": {
    "collapsed": true
   },
   "outputs": [],
   "source": [
    "from sklearn.metrics import mean_squared_error"
   ]
  },
  {
   "cell_type": "code",
   "execution_count": 43,
   "metadata": {},
   "outputs": [
    {
     "data": {
      "text/plain": [
       "0.039345224860431613"
      ]
     },
     "execution_count": 43,
     "metadata": {},
     "output_type": "execute_result"
    }
   ],
   "source": [
    "mean_squared_error(Y, ls.predict(X.reshape(-1, 1)))"
   ]
  },
  {
   "cell_type": "markdown",
   "metadata": {},
   "source": [
    " To ask how we can do better, let's consider an even more naive choice, where we choose the mean of the training data as the prediction for any data:"
   ]
  },
  {
   "cell_type": "code",
   "execution_count": 44,
   "metadata": {},
   "outputs": [
    {
     "data": {
      "text/plain": [
       "0.37465326755162148"
      ]
     },
     "execution_count": 44,
     "metadata": {},
     "output_type": "execute_result"
    }
   ],
   "source": [
    "Y_mean = np.mean(Y) * np.ones(n_fake)\n",
    "mean_squared_error(Y, Y_mean)"
   ]
  },
  {
   "cell_type": "markdown",
   "metadata": {},
   "source": [
    "The result is clearly worse, but suppose we use the means over different intervals to make the prediction.  This is the Decision Tree:"
   ]
  },
  {
   "cell_type": "code",
   "execution_count": 45,
   "metadata": {},
   "outputs": [
    {
     "data": {
      "text/plain": [
       "0.032803143990324982"
      ]
     },
     "execution_count": 45,
     "metadata": {},
     "output_type": "execute_result"
    }
   ],
   "source": [
    "from sklearn.tree import DecisionTreeRegressor\n",
    "dt = DecisionTreeRegressor(max_depth=2)\n",
    "dt.fit(X.reshape(-1, 1), Y)\n",
    "mean_squared_error(Y, dt.predict(X.reshape(-1, 1)))"
   ]
  },
  {
   "cell_type": "markdown",
   "metadata": {},
   "source": [
    "This result is slightly better than the least squares error. It's a bit complicated technically to visualize the decision tree, but we can use graphviz:"
   ]
  },
  {
   "cell_type": "code",
   "execution_count": 46,
   "metadata": {
    "collapsed": true
   },
   "outputs": [],
   "source": [
    "from sklearn.tree import export_graphviz\n",
    "export_graphviz(dt, out_file='decision_tree.dot')"
   ]
  },
  {
   "cell_type": "markdown",
   "metadata": {},
   "source": [
    "After conversion to png format, we find the tree:\n",
    "\n",
    "![decision-tree](decision_tree.png)\n",
    "\n",
    "Graphically, the predictions are"
   ]
  },
  {
   "cell_type": "code",
   "execution_count": 47,
   "metadata": {},
   "outputs": [
    {
     "data": {
      "image/png": "[encoded data removed]",
      "text/plain": [
       "<matplotlib.figure.Figure at 0x7fee339f5b70>"
      ]
     },
     "metadata": {},
     "output_type": "display_data"
    }
   ],
   "source": [
    "plt.figure(figsize=(10,10))\n",
    "plt.scatter(X, Y)\n",
    "n_grid = n_fake//4\n",
    "plt.plot(np.linspace(0,1.2763, n_grid), 0.4537*np.ones(n_grid), color='k')\n",
    "plt.plot(np.linspace(1.2763,3.3483, n_grid), 1.1701*np.ones(n_grid), color='k')\n",
    "plt.plot(np.linspace(3.3483,6.2613, n_grid), 1.7532*np.ones(n_grid), color='k')\n",
    "plt.plot(np.linspace(6.2613, 10, n_grid), 2.2112*np.ones(n_grid), color='k')\n",
    "plt.xlabel(\"x\")\n",
    "plt.ylabel(\"y\")\n",
    "plt.show()"
   ]
  },
  {
   "cell_type": "markdown",
   "metadata": {},
   "source": [
    "If we have more features, there is more diversity to the possible splits we can have.  \n",
    "\n",
    "In the Random Forests method,  we grow trees by only allowing splits at each node from a random sample of features. Therefore, each individual tree is at least slightly different than the other trees.  Finally we compute a prediction based on the average output of the family of trees.  Therefore Random Forests is an example of an ensemble model.  We use many different models (the individual trees) and use them to generate an aggregate result.\n",
    "\n",
    "We will apply Random Forests to the trip duration problem:"
   ]
  },
  {
   "cell_type": "code",
   "execution_count": 48,
   "metadata": {
    "collapsed": true
   },
   "outputs": [],
   "source": [
    "from sklearn.ensemble import RandomForestRegressor"
   ]
  },
  {
   "cell_type": "code",
   "execution_count": 49,
   "metadata": {
    "collapsed": true
   },
   "outputs": [],
   "source": [
    "rf_regr = RandomForestRegressor(random_state=463, n_jobs=-1)"
   ]
  },
  {
   "cell_type": "markdown",
   "metadata": {},
   "source": [
    "We will build a pipeline"
   ]
  },
  {
   "cell_type": "code",
   "execution_count": 50,
   "metadata": {
    "collapsed": true
   },
   "outputs": [],
   "source": [
    "from sklearn.pipeline import Pipeline"
   ]
  },
  {
   "cell_type": "code",
   "execution_count": 51,
   "metadata": {
    "collapsed": true
   },
   "outputs": [],
   "source": [
    "regr = Pipeline([\n",
    "                ('scaler', MaxAbsScaler()), \n",
    "                ('regressor', RandomForestRegressor(random_state=463, n_jobs=-1))\n",
    "                ])"
   ]
  },
  {
   "cell_type": "code",
   "execution_count": 52,
   "metadata": {},
   "outputs": [
    {
     "data": {
      "text/plain": [
       "Pipeline(steps=[('scaler', MaxAbsScaler(copy=True)), ('regressor', RandomForestRegressor(bootstrap=True, criterion='mse', max_depth=None,\n",
       "           max_features='auto', max_leaf_nodes=None,\n",
       "           min_impurity_split=1e-07, min_samples_leaf=1,\n",
       "           min_samples_split=2, min_weight_fraction_leaf=0.0,\n",
       "           n_estimators=10, n_jobs=-1, oob_score=False, random_state=463,\n",
       "           verbose=0, warm_start=False))])"
      ]
     },
     "execution_count": 52,
     "metadata": {},
     "output_type": "execute_result"
    }
   ],
   "source": [
    "regr.fit(x_train, y_train)"
   ]
  },
  {
   "cell_type": "code",
   "execution_count": 53,
   "metadata": {
    "collapsed": true
   },
   "outputs": [],
   "source": [
    "y_pred_train = regr.predict(x_train)\n",
    "\n",
    "y_pred_valid = regr.predict(x_valid)"
   ]
  },
  {
   "cell_type": "code",
   "execution_count": 54,
   "metadata": {},
   "outputs": [
    {
     "name": "stdout",
     "output_type": "stream",
     "text": [
      "[ 7.47332997  4.24484471  6.75689226  6.6871506   6.90718791]\n",
      "[ 7.56371967  2.89037176  6.93828448  6.56526497  7.04925484]\n"
     ]
    }
   ],
   "source": [
    "print(y_pred_train[:5])\n",
    "print(y_train[:5])"
   ]
  },
  {
   "cell_type": "code",
   "execution_count": 55,
   "metadata": {},
   "outputs": [
    {
     "data": {
      "image/png": "[encoded data removed]",
      "text/plain": [
       "<matplotlib.figure.Figure at 0x7fee32c380f0>"
      ]
     },
     "metadata": {},
     "output_type": "display_data"
    }
   ],
   "source": [
    "plt.figure(figsize=(10,10))\n",
    "plt.scatter(y_train, y_pred_train)\n",
    "plt.plot(y_train, y_train, color='k')\n",
    "plt.xlabel(\"y_true\")\n",
    "plt.ylabel(\"y_pred\")\n",
    "plt.title(\"Training data\")\n",
    "plt.show()"
   ]
  },
  {
   "cell_type": "code",
   "execution_count": 56,
   "metadata": {},
   "outputs": [
    {
     "data": {
      "image/png": "[encoded data removed]",
      "text/plain": [
       "<matplotlib.figure.Figure at 0x7fee358cd5f8>"
      ]
     },
     "metadata": {},
     "output_type": "display_data"
    }
   ],
   "source": [
    "plt.figure(figsize=(10,10))\n",
    "plt.scatter(y_valid, y_pred_valid)\n",
    "plt.plot(y_valid, y_valid, color='k')\n",
    "plt.xlabel(\"y_true\")\n",
    "plt.ylabel(\"y_pred\")\n",
    "plt.title(\"Validation data\")\n",
    "plt.show()"
   ]
  },
  {
   "cell_type": "code",
   "execution_count": 57,
   "metadata": {},
   "outputs": [
    {
     "data": {
      "text/plain": [
       "0.040084798843755994"
      ]
     },
     "execution_count": 57,
     "metadata": {},
     "output_type": "execute_result"
    }
   ],
   "source": [
    "mean_squared_error(y_train, y_pred_train)"
   ]
  },
  {
   "cell_type": "code",
   "execution_count": 58,
   "metadata": {},
   "outputs": [
    {
     "data": {
      "text/plain": [
       "0.2222497296703401"
      ]
     },
     "execution_count": 58,
     "metadata": {},
     "output_type": "execute_result"
    }
   ],
   "source": [
    "mean_squared_error(y_valid, y_pred_valid)"
   ]
  },
  {
   "cell_type": "markdown",
   "metadata": {},
   "source": [
    "## Tuning Hyperparameters\n",
    "\n",
    "We see that the validation error is much smaller than the training error, so we have overfitting.  The `RandomForestRegressor`, and thus the pipeline, has a number of parameters we can tune:"
   ]
  },
  {
   "cell_type": "code",
   "execution_count": 59,
   "metadata": {},
   "outputs": [
    {
     "data": {
      "text/plain": [
       "{'regressor': RandomForestRegressor(bootstrap=True, criterion='mse', max_depth=None,\n",
       "            max_features='auto', max_leaf_nodes=None,\n",
       "            min_impurity_split=1e-07, min_samples_leaf=1,\n",
       "            min_samples_split=2, min_weight_fraction_leaf=0.0,\n",
       "            n_estimators=10, n_jobs=-1, oob_score=False, random_state=463,\n",
       "            verbose=0, warm_start=False),\n",
       " 'regressor__bootstrap': True,\n",
       " 'regressor__criterion': 'mse',\n",
       " 'regressor__max_depth': None,\n",
       " 'regressor__max_features': 'auto',\n",
       " 'regressor__max_leaf_nodes': None,\n",
       " 'regressor__min_impurity_split': 1e-07,\n",
       " 'regressor__min_samples_leaf': 1,\n",
       " 'regressor__min_samples_split': 2,\n",
       " 'regressor__min_weight_fraction_leaf': 0.0,\n",
       " 'regressor__n_estimators': 10,\n",
       " 'regressor__n_jobs': -1,\n",
       " 'regressor__oob_score': False,\n",
       " 'regressor__random_state': 463,\n",
       " 'regressor__verbose': 0,\n",
       " 'regressor__warm_start': False,\n",
       " 'scaler': MaxAbsScaler(copy=True),\n",
       " 'scaler__copy': True,\n",
       " 'steps': [('scaler', MaxAbsScaler(copy=True)),\n",
       "  ('regressor',\n",
       "   RandomForestRegressor(bootstrap=True, criterion='mse', max_depth=None,\n",
       "              max_features='auto', max_leaf_nodes=None,\n",
       "              min_impurity_split=1e-07, min_samples_leaf=1,\n",
       "              min_samples_split=2, min_weight_fraction_leaf=0.0,\n",
       "              n_estimators=10, n_jobs=-1, oob_score=False, random_state=463,\n",
       "              verbose=0, warm_start=False))]}"
      ]
     },
     "execution_count": 59,
     "metadata": {},
     "output_type": "execute_result"
    }
   ],
   "source": [
    "regr.get_params()"
   ]
  },
  {
   "cell_type": "markdown",
   "metadata": {},
   "source": [
    "The most important are `max_depth`, `max_features` and `n_estimators`.  Let's generate error curves for these.\n",
    "\n",
    "Sci-kit learn classes include the method `set_params()` to change the hyperparameters. So for instance, we can run"
   ]
  },
  {
   "cell_type": "code",
   "execution_count": 60,
   "metadata": {},
   "outputs": [
    {
     "data": {
      "text/plain": [
       "Pipeline(steps=[('scaler', MaxAbsScaler(copy=True)), ('regressor', RandomForestRegressor(bootstrap=True, criterion='mse', max_depth=None,\n",
       "           max_features='auto', max_leaf_nodes=None,\n",
       "           min_impurity_split=1e-07, min_samples_leaf=1,\n",
       "           min_samples_split=2, min_weight_fraction_leaf=0.0,\n",
       "           n_estimators=15, n_jobs=-1, oob_score=False, random_state=463,\n",
       "           verbose=0, warm_start=False))])"
      ]
     },
     "execution_count": 60,
     "metadata": {},
     "output_type": "execute_result"
    }
   ],
   "source": [
    "regr.set_params(regressor__n_estimators = 15)"
   ]
  },
  {
   "cell_type": "markdown",
   "metadata": {},
   "source": [
    "Another very useful way to specify hypers is using python keyword arguments (kwargs):"
   ]
  },
  {
   "cell_type": "code",
   "execution_count": 61,
   "metadata": {},
   "outputs": [
    {
     "data": {
      "text/plain": [
       "Pipeline(steps=[('scaler', MaxAbsScaler(copy=True)), ('regressor', RandomForestRegressor(bootstrap=True, criterion='mse', max_depth=None,\n",
       "           max_features='auto', max_leaf_nodes=None,\n",
       "           min_impurity_split=1e-07, min_samples_leaf=1,\n",
       "           min_samples_split=2, min_weight_fraction_leaf=0.0,\n",
       "           n_estimators=20, n_jobs=-1, oob_score=False, random_state=463,\n",
       "           verbose=0, warm_start=False))])"
      ]
     },
     "execution_count": 61,
     "metadata": {},
     "output_type": "execute_result"
    }
   ],
   "source": [
    "regr.set_params(**{'regressor__n_estimators': 20})"
   ]
  },
  {
   "cell_type": "markdown",
   "metadata": {},
   "source": [
    "This allows us to specify a list or distribution of hypers via a python dict:"
   ]
  },
  {
   "cell_type": "code",
   "execution_count": 62,
   "metadata": {
    "collapsed": true
   },
   "outputs": [],
   "source": [
    "mdepth_params = {'regressor__max_depth': range(5, 80, 10)}"
   ]
  },
  {
   "cell_type": "markdown",
   "metadata": {},
   "source": [
    "This list can be thought of as a grid of points, where each point is a value of the hyperparameter that we want to test.  Deterimining the optimal value by computing the models errors at each grid point is known as the **grid search method** of optimizing hyperparameters.\n",
    "\n",
    "We can unpack the dictionary with the `items()` method:"
   ]
  },
  {
   "cell_type": "code",
   "execution_count": 63,
   "metadata": {},
   "outputs": [
    {
     "name": "stdout",
     "output_type": "stream",
     "text": [
      "{'regressor__max_depth': 5}\n",
      "{'regressor__max_depth': 15}\n",
      "{'regressor__max_depth': 25}\n",
      "{'regressor__max_depth': 35}\n",
      "{'regressor__max_depth': 45}\n",
      "{'regressor__max_depth': 55}\n",
      "{'regressor__max_depth': 65}\n",
      "{'regressor__max_depth': 75}\n"
     ]
    }
   ],
   "source": [
    "for k,v in mdepth_params.items():\n",
    "    for val in v:\n",
    "        print({k: val})"
   ]
  },
  {
   "cell_type": "code",
   "execution_count": 64,
   "metadata": {},
   "outputs": [
    {
     "name": "stdout",
     "output_type": "stream",
     "text": [
      "0\n",
      "('regressor__max_depth', 5)\n",
      "1\n",
      "('regressor__max_depth', 15)\n",
      "2\n",
      "('regressor__max_depth', 25)\n",
      "3\n",
      "('regressor__max_depth', 35)\n",
      "4\n",
      "('regressor__max_depth', 45)\n",
      "5\n",
      "('regressor__max_depth', 55)\n",
      "6\n",
      "('regressor__max_depth', 65)\n",
      "7\n",
      "('regressor__max_depth', 75)\n"
     ]
    }
   ],
   "source": [
    "for k, v in mdepth_params.items():\n",
    "    for count, val in enumerate(v):\n",
    "        print(count)\n",
    "        print((k,val))"
   ]
  },
  {
   "cell_type": "markdown",
   "metadata": {},
   "source": [
    "It's convenient to build a function to unpack our dict, fit the model and then store the errors in a dataframe:"
   ]
  },
  {
   "cell_type": "code",
   "execution_count": 65,
   "metadata": {
    "collapsed": true
   },
   "outputs": [],
   "source": [
    "from tqdm import tqdm\n",
    "\n",
    "def single_search(regr, params):\n",
    "    regr_results_df = pd.DataFrame(dtype = 'float64')\n",
    "    for k, v in params.items():\n",
    "        for count, val in tqdm(enumerate(v)):\n",
    "            regr.set_params(**{k: val})\n",
    "            print(\"Setting parameter \" + k + \" to \" + str(val))\n",
    "            regr_results_df.loc[count, k] = val\n",
    "            \n",
    "            print(\"Fitting new model\")\n",
    "            regr.fit(x_train, y_train)\n",
    "            \n",
    "            print(\"Computing errors\")\n",
    "            regr_results_df.loc[count, 'train error'] = \\\n",
    "                mean_squared_error(y_train, regr.predict(x_train))\n",
    "            regr_results_df.loc[count, 'validation error'] = \\\n",
    "                mean_squared_error(y_valid, regr.predict(x_valid))\n",
    "    return regr_results_df"
   ]
  },
  {
   "cell_type": "code",
   "execution_count": 66,
   "metadata": {},
   "outputs": [
    {
     "name": "stderr",
     "output_type": "stream",
     "text": [
      "\r",
      "0it [00:00, ?it/s]"
     ]
    },
    {
     "name": "stdout",
     "output_type": "stream",
     "text": [
      "Setting parameter regressor__max_depth to 5\n",
      "Fitting new model\n",
      "Computing errors\n"
     ]
    },
    {
     "name": "stderr",
     "output_type": "stream",
     "text": [
      "\r",
      "1it [00:19, 19.99s/it]"
     ]
    },
    {
     "name": "stdout",
     "output_type": "stream",
     "text": [
      "Setting parameter regressor__max_depth to 15\n",
      "Fitting new model\n",
      "Computing errors\n"
     ]
    },
    {
     "name": "stderr",
     "output_type": "stream",
     "text": [
      "\r",
      "2it [01:10, 29.26s/it]"
     ]
    },
    {
     "name": "stdout",
     "output_type": "stream",
     "text": [
      "Setting parameter regressor__max_depth to 25\n",
      "Fitting new model\n",
      "Computing errors\n"
     ]
    },
    {
     "name": "stderr",
     "output_type": "stream",
     "text": [
      "\r",
      "3it [02:31, 44.54s/it]"
     ]
    },
    {
     "name": "stdout",
     "output_type": "stream",
     "text": [
      "Setting parameter regressor__max_depth to 35\n",
      "Fitting new model\n",
      "Computing errors\n"
     ]
    },
    {
     "name": "stderr",
     "output_type": "stream",
     "text": [
      "\r",
      "4it [04:11, 61.31s/it]"
     ]
    },
    {
     "name": "stdout",
     "output_type": "stream",
     "text": [
      "Setting parameter regressor__max_depth to 45\n",
      "Fitting new model\n",
      "Computing errors\n"
     ]
    },
    {
     "name": "stderr",
     "output_type": "stream",
     "text": [
      "\r",
      "5it [06:05, 77.19s/it]"
     ]
    },
    {
     "name": "stdout",
     "output_type": "stream",
     "text": [
      "Setting parameter regressor__max_depth to 55\n",
      "Fitting new model\n",
      "Computing errors\n"
     ]
    },
    {
     "name": "stderr",
     "output_type": "stream",
     "text": [
      "\r",
      "6it [08:03, 89.35s/it]"
     ]
    },
    {
     "name": "stdout",
     "output_type": "stream",
     "text": [
      "Setting parameter regressor__max_depth to 65\n",
      "Fitting new model\n",
      "Computing errors\n"
     ]
    },
    {
     "name": "stderr",
     "output_type": "stream",
     "text": [
      "\r",
      "7it [10:03, 98.45s/it]"
     ]
    },
    {
     "name": "stdout",
     "output_type": "stream",
     "text": [
      "Setting parameter regressor__max_depth to 75\n",
      "Fitting new model\n",
      "Computing errors\n"
     ]
    },
    {
     "name": "stderr",
     "output_type": "stream",
     "text": [
      "8it [12:00, 104.16s/it]\n"
     ]
    }
   ],
   "source": [
    "mdepth_results = single_search(regr, mdepth_params)"
   ]
  },
  {
   "cell_type": "code",
   "execution_count": 67,
   "metadata": {},
   "outputs": [
    {
     "data": {
      "text/html": [
       "<div>\n",
       "<style>\n",
       "    .dataframe thead tr:only-child th {\n",
       "        text-align: right;\n",
       "    }\n",
       "\n",
       "    .dataframe thead th {\n",
       "        text-align: left;\n",
       "    }\n",
       "\n",
       "    .dataframe tbody tr th {\n",
       "        vertical-align: top;\n",
       "    }\n",
       "</style>\n",
       "<table border=\"1\" class=\"dataframe\">\n",
       "  <thead>\n",
       "    <tr style=\"text-align: right;\">\n",
       "      <th></th>\n",
       "      <th>regressor__max_depth</th>\n",
       "      <th>train error</th>\n",
       "      <th>validation error</th>\n",
       "    </tr>\n",
       "  </thead>\n",
       "  <tbody>\n",
       "    <tr>\n",
       "      <th>0</th>\n",
       "      <td>5.0</td>\n",
       "      <td>0.4699870552</td>\n",
       "      <td>0.4685267694</td>\n",
       "    </tr>\n",
       "    <tr>\n",
       "      <th>1</th>\n",
       "      <td>15.0</td>\n",
       "      <td>0.3767039853</td>\n",
       "      <td>0.3911326413</td>\n",
       "    </tr>\n",
       "    <tr>\n",
       "      <th>2</th>\n",
       "      <td>25.0</td>\n",
       "      <td>0.2331312380</td>\n",
       "      <td>0.2822375844</td>\n",
       "    </tr>\n",
       "    <tr>\n",
       "      <th>3</th>\n",
       "      <td>35.0</td>\n",
       "      <td>0.1222416576</td>\n",
       "      <td>0.2261227905</td>\n",
       "    </tr>\n",
       "    <tr>\n",
       "      <th>4</th>\n",
       "      <td>45.0</td>\n",
       "      <td>0.0594455177</td>\n",
       "      <td>0.2119039015</td>\n",
       "    </tr>\n",
       "    <tr>\n",
       "      <th>5</th>\n",
       "      <td>55.0</td>\n",
       "      <td>0.0383935802</td>\n",
       "      <td>0.2114770390</td>\n",
       "    </tr>\n",
       "    <tr>\n",
       "      <th>6</th>\n",
       "      <td>65.0</td>\n",
       "      <td>0.0340671140</td>\n",
       "      <td>0.2115755498</td>\n",
       "    </tr>\n",
       "    <tr>\n",
       "      <th>7</th>\n",
       "      <td>75.0</td>\n",
       "      <td>0.0335492394</td>\n",
       "      <td>0.2115400143</td>\n",
       "    </tr>\n",
       "  </tbody>\n",
       "</table>\n",
       "</div>"
      ],
      "text/plain": [
       "   regressor__max_depth   train error  validation error\n",
       "0                   5.0  0.4699870552      0.4685267694\n",
       "1                  15.0  0.3767039853      0.3911326413\n",
       "2                  25.0  0.2331312380      0.2822375844\n",
       "3                  35.0  0.1222416576      0.2261227905\n",
       "4                  45.0  0.0594455177      0.2119039015\n",
       "5                  55.0  0.0383935802      0.2114770390\n",
       "6                  65.0  0.0340671140      0.2115755498\n",
       "7                  75.0  0.0335492394      0.2115400143"
      ]
     },
     "execution_count": 67,
     "metadata": {},
     "output_type": "execute_result"
    }
   ],
   "source": [
    "mdepth_results"
   ]
  },
  {
   "cell_type": "code",
   "execution_count": 68,
   "metadata": {
    "collapsed": true
   },
   "outputs": [],
   "source": [
    "def plot_errors(dataframe):\n",
    "    fig, ax = plt.subplots(figsize=(10,10))\n",
    "    \n",
    "    X = dataframe.iloc[:,0].values\n",
    "    Y_train = dataframe.iloc[:,1].values\n",
    "    Y_valid = dataframe.iloc[:,2].values\n",
    "    \n",
    "    ax.plot(X, Y_train, color='b', marker='v', label='training_error')\n",
    "    ax.plot(X, Y_valid, color='g', marker='^', label='validation_error')\n",
    "    \n",
    "    ax.set_xlabel(dataframe.columns[0])\n",
    "    ax.set_ylabel(\"Error\")\n",
    "    plt.legend()\n",
    "    \n",
    "    plt.show()"
   ]
  },
  {
   "cell_type": "code",
   "execution_count": 69,
   "metadata": {},
   "outputs": [
    {
     "data": {
      "image/png": "[encoded data removed]",
      "text/plain": [
       "<matplotlib.figure.Figure at 0x7fee2faac2b0>"
      ]
     },
     "metadata": {},
     "output_type": "display_data"
    }
   ],
   "source": [
    "plot_errors(mdepth_results)"
   ]
  },
  {
   "cell_type": "markdown",
   "metadata": {},
   "source": [
    "The validation error is minimized by a max depth of around 45:"
   ]
  },
  {
   "cell_type": "code",
   "execution_count": 70,
   "metadata": {},
   "outputs": [
    {
     "data": {
      "text/plain": [
       "Pipeline(steps=[('scaler', MaxAbsScaler(copy=True)), ('regressor', RandomForestRegressor(bootstrap=True, criterion='mse', max_depth=45,\n",
       "           max_features='auto', max_leaf_nodes=None,\n",
       "           min_impurity_split=1e-07, min_samples_leaf=1,\n",
       "           min_samples_split=2, min_weight_fraction_leaf=0.0,\n",
       "           n_estimators=20, n_jobs=-1, oob_score=False, random_state=463,\n",
       "           verbose=0, warm_start=False))])"
      ]
     },
     "execution_count": 70,
     "metadata": {},
     "output_type": "execute_result"
    }
   ],
   "source": [
    "regr.set_params(regressor__max_depth = 45)"
   ]
  },
  {
   "cell_type": "markdown",
   "metadata": {},
   "source": [
    "Next, we'll see how changing the max features sampled at each node affects the errors:"
   ]
  },
  {
   "cell_type": "code",
   "execution_count": 71,
   "metadata": {
    "collapsed": true
   },
   "outputs": [],
   "source": [
    "n_feat = x_train.shape[1]\n",
    "\n",
    "mfeat_params = {'regressor__max_features': range(1, n_feat + 1, 1)}"
   ]
  },
  {
   "cell_type": "code",
   "execution_count": 72,
   "metadata": {},
   "outputs": [
    {
     "name": "stderr",
     "output_type": "stream",
     "text": [
      "\r",
      "0it [00:00, ?it/s]"
     ]
    },
    {
     "name": "stdout",
     "output_type": "stream",
     "text": [
      "Setting parameter regressor__max_features to 1\n",
      "Fitting new model\n",
      "Computing errors\n"
     ]
    },
    {
     "name": "stderr",
     "output_type": "stream",
     "text": [
      "\r",
      "1it [00:27, 27.80s/it]"
     ]
    },
    {
     "name": "stdout",
     "output_type": "stream",
     "text": [
      "Setting parameter regressor__max_features to 2\n",
      "Fitting new model\n",
      "Computing errors\n"
     ]
    },
    {
     "name": "stderr",
     "output_type": "stream",
     "text": [
      "\r",
      "2it [01:05, 30.76s/it]"
     ]
    },
    {
     "name": "stdout",
     "output_type": "stream",
     "text": [
      "Setting parameter regressor__max_features to 3\n",
      "Fitting new model\n",
      "Computing errors\n"
     ]
    },
    {
     "name": "stderr",
     "output_type": "stream",
     "text": [
      "\r",
      "3it [01:54, 36.16s/it]"
     ]
    },
    {
     "name": "stdout",
     "output_type": "stream",
     "text": [
      "Setting parameter regressor__max_features to 4\n",
      "Fitting new model\n",
      "Computing errors\n"
     ]
    },
    {
     "name": "stderr",
     "output_type": "stream",
     "text": [
      "\r",
      "4it [02:51, 42.45s/it]"
     ]
    },
    {
     "name": "stdout",
     "output_type": "stream",
     "text": [
      "Setting parameter regressor__max_features to 5\n",
      "Fitting new model\n",
      "Computing errors\n"
     ]
    },
    {
     "name": "stderr",
     "output_type": "stream",
     "text": [
      "\r",
      "5it [03:59, 50.01s/it]"
     ]
    },
    {
     "name": "stdout",
     "output_type": "stream",
     "text": [
      "Setting parameter regressor__max_features to 6\n",
      "Fitting new model\n",
      "Computing errors\n"
     ]
    },
    {
     "name": "stderr",
     "output_type": "stream",
     "text": [
      "\r",
      "6it [05:15, 57.89s/it]"
     ]
    },
    {
     "name": "stdout",
     "output_type": "stream",
     "text": [
      "Setting parameter regressor__max_features to 7\n",
      "Fitting new model\n",
      "Computing errors\n"
     ]
    },
    {
     "name": "stderr",
     "output_type": "stream",
     "text": [
      "\r",
      "7it [06:41, 66.52s/it]"
     ]
    },
    {
     "name": "stdout",
     "output_type": "stream",
     "text": [
      "Setting parameter regressor__max_features to 8\n",
      "Fitting new model\n",
      "Computing errors\n"
     ]
    },
    {
     "name": "stderr",
     "output_type": "stream",
     "text": [
      "\r",
      "8it [08:18, 75.68s/it]"
     ]
    },
    {
     "name": "stdout",
     "output_type": "stream",
     "text": [
      "Setting parameter regressor__max_features to 9\n",
      "Fitting new model\n",
      "Computing errors\n"
     ]
    },
    {
     "name": "stderr",
     "output_type": "stream",
     "text": [
      "\r",
      "9it [10:03, 84.27s/it]"
     ]
    },
    {
     "name": "stdout",
     "output_type": "stream",
     "text": [
      "Setting parameter regressor__max_features to 10\n",
      "Fitting new model\n",
      "Computing errors\n"
     ]
    },
    {
     "name": "stderr",
     "output_type": "stream",
     "text": [
      "10it [11:56, 92.95s/it]\n"
     ]
    }
   ],
   "source": [
    "mfeat_results = single_search(regr, mfeat_params)"
   ]
  },
  {
   "cell_type": "code",
   "execution_count": 73,
   "metadata": {},
   "outputs": [
    {
     "data": {
      "text/html": [
       "<div>\n",
       "<style>\n",
       "    .dataframe thead tr:only-child th {\n",
       "        text-align: right;\n",
       "    }\n",
       "\n",
       "    .dataframe thead th {\n",
       "        text-align: left;\n",
       "    }\n",
       "\n",
       "    .dataframe tbody tr th {\n",
       "        vertical-align: top;\n",
       "    }\n",
       "</style>\n",
       "<table border=\"1\" class=\"dataframe\">\n",
       "  <thead>\n",
       "    <tr style=\"text-align: right;\">\n",
       "      <th></th>\n",
       "      <th>regressor__max_features</th>\n",
       "      <th>train error</th>\n",
       "      <th>validation error</th>\n",
       "    </tr>\n",
       "  </thead>\n",
       "  <tbody>\n",
       "    <tr>\n",
       "      <th>0</th>\n",
       "      <td>1.0</td>\n",
       "      <td>0.0961110459</td>\n",
       "      <td>0.2533339224</td>\n",
       "    </tr>\n",
       "    <tr>\n",
       "      <th>1</th>\n",
       "      <td>2.0</td>\n",
       "      <td>0.0683175769</td>\n",
       "      <td>0.2241209615</td>\n",
       "    </tr>\n",
       "    <tr>\n",
       "      <th>2</th>\n",
       "      <td>3.0</td>\n",
       "      <td>0.0776309015</td>\n",
       "      <td>0.2197152797</td>\n",
       "    </tr>\n",
       "    <tr>\n",
       "      <th>3</th>\n",
       "      <td>4.0</td>\n",
       "      <td>0.0626961335</td>\n",
       "      <td>0.2144694355</td>\n",
       "    </tr>\n",
       "    <tr>\n",
       "      <th>4</th>\n",
       "      <td>5.0</td>\n",
       "      <td>0.0644787690</td>\n",
       "      <td>0.2132027695</td>\n",
       "    </tr>\n",
       "    <tr>\n",
       "      <th>5</th>\n",
       "      <td>6.0</td>\n",
       "      <td>0.0633349131</td>\n",
       "      <td>0.2121866816</td>\n",
       "    </tr>\n",
       "    <tr>\n",
       "      <th>6</th>\n",
       "      <td>7.0</td>\n",
       "      <td>0.0669351673</td>\n",
       "      <td>0.2122342251</td>\n",
       "    </tr>\n",
       "    <tr>\n",
       "      <th>7</th>\n",
       "      <td>8.0</td>\n",
       "      <td>0.0631875567</td>\n",
       "      <td>0.2115173313</td>\n",
       "    </tr>\n",
       "    <tr>\n",
       "      <th>8</th>\n",
       "      <td>9.0</td>\n",
       "      <td>0.0616075132</td>\n",
       "      <td>0.2124289301</td>\n",
       "    </tr>\n",
       "    <tr>\n",
       "      <th>9</th>\n",
       "      <td>10.0</td>\n",
       "      <td>0.0594455177</td>\n",
       "      <td>0.2119039015</td>\n",
       "    </tr>\n",
       "  </tbody>\n",
       "</table>\n",
       "</div>"
      ],
      "text/plain": [
       "   regressor__max_features   train error  validation error\n",
       "0                      1.0  0.0961110459      0.2533339224\n",
       "1                      2.0  0.0683175769      0.2241209615\n",
       "2                      3.0  0.0776309015      0.2197152797\n",
       "3                      4.0  0.0626961335      0.2144694355\n",
       "4                      5.0  0.0644787690      0.2132027695\n",
       "5                      6.0  0.0633349131      0.2121866816\n",
       "6                      7.0  0.0669351673      0.2122342251\n",
       "7                      8.0  0.0631875567      0.2115173313\n",
       "8                      9.0  0.0616075132      0.2124289301\n",
       "9                     10.0  0.0594455177      0.2119039015"
      ]
     },
     "execution_count": 73,
     "metadata": {},
     "output_type": "execute_result"
    }
   ],
   "source": [
    "mfeat_results"
   ]
  },
  {
   "cell_type": "code",
   "execution_count": 74,
   "metadata": {},
   "outputs": [
    {
     "data": {
      "image/png": "[encoded data removed]",
      "text/plain": [
       "<matplotlib.figure.Figure at 0x7fee2fab7588>"
      ]
     },
     "metadata": {},
     "output_type": "display_data"
    }
   ],
   "source": [
    "plot_errors(mfeat_results)"
   ]
  },
  {
   "cell_type": "markdown",
   "metadata": {},
   "source": [
    "The validation error is optimized when around 8 features are sampled:"
   ]
  },
  {
   "cell_type": "code",
   "execution_count": 75,
   "metadata": {},
   "outputs": [
    {
     "data": {
      "text/plain": [
       "Pipeline(steps=[('scaler', MaxAbsScaler(copy=True)), ('regressor', RandomForestRegressor(bootstrap=True, criterion='mse', max_depth=45,\n",
       "           max_features=8, max_leaf_nodes=None, min_impurity_split=1e-07,\n",
       "           min_samples_leaf=1, min_samples_split=2,\n",
       "           min_weight_fraction_leaf=0.0, n_estimators=20, n_jobs=-1,\n",
       "           oob_score=False, random_state=463, verbose=0, warm_start=False))])"
      ]
     },
     "execution_count": 75,
     "metadata": {},
     "output_type": "execute_result"
    }
   ],
   "source": [
    "regr.set_params(regressor__max_features = 8)"
   ]
  },
  {
   "cell_type": "code",
   "execution_count": 76,
   "metadata": {
    "collapsed": true
   },
   "outputs": [],
   "source": [
    "nest_params = {'regressor__n_estimators': range(10, 135, 25)}"
   ]
  },
  {
   "cell_type": "code",
   "execution_count": 77,
   "metadata": {},
   "outputs": [
    {
     "name": "stderr",
     "output_type": "stream",
     "text": [
      "\r",
      "0it [00:00, ?it/s]"
     ]
    },
    {
     "name": "stdout",
     "output_type": "stream",
     "text": [
      "Setting parameter regressor__n_estimators to 10\n",
      "Fitting new model\n",
      "Computing errors\n"
     ]
    },
    {
     "name": "stderr",
     "output_type": "stream",
     "text": [
      "\r",
      "1it [00:51, 51.72s/it]"
     ]
    },
    {
     "name": "stdout",
     "output_type": "stream",
     "text": [
      "Setting parameter regressor__n_estimators to 35\n",
      "Fitting new model\n",
      "Computing errors\n"
     ]
    },
    {
     "name": "stderr",
     "output_type": "stream",
     "text": [
      "\r",
      "2it [03:25, 82.32s/it]"
     ]
    },
    {
     "name": "stdout",
     "output_type": "stream",
     "text": [
      "Setting parameter regressor__n_estimators to 60\n",
      "Fitting new model\n",
      "Computing errors\n"
     ]
    },
    {
     "name": "stderr",
     "output_type": "stream",
     "text": [
      "\r",
      "3it [07:52, 137.74s/it]"
     ]
    },
    {
     "name": "stdout",
     "output_type": "stream",
     "text": [
      "Setting parameter regressor__n_estimators to 85\n",
      "Fitting new model\n",
      "Computing errors\n"
     ]
    },
    {
     "name": "stderr",
     "output_type": "stream",
     "text": [
      "\r",
      "4it [14:04, 208.04s/it]"
     ]
    },
    {
     "name": "stdout",
     "output_type": "stream",
     "text": [
      "Setting parameter regressor__n_estimators to 110\n",
      "Fitting new model\n",
      "Computing errors\n"
     ]
    },
    {
     "name": "stderr",
     "output_type": "stream",
     "text": [
      "5it [22:00, 288.54s/it]\n"
     ]
    }
   ],
   "source": [
    "nest_results = single_search(regr, nest_params)"
   ]
  },
  {
   "cell_type": "code",
   "execution_count": 78,
   "metadata": {},
   "outputs": [
    {
     "data": {
      "text/html": [
       "<div>\n",
       "<style>\n",
       "    .dataframe thead tr:only-child th {\n",
       "        text-align: right;\n",
       "    }\n",
       "\n",
       "    .dataframe thead th {\n",
       "        text-align: left;\n",
       "    }\n",
       "\n",
       "    .dataframe tbody tr th {\n",
       "        vertical-align: top;\n",
       "    }\n",
       "</style>\n",
       "<table border=\"1\" class=\"dataframe\">\n",
       "  <thead>\n",
       "    <tr style=\"text-align: right;\">\n",
       "      <th></th>\n",
       "      <th>regressor__n_estimators</th>\n",
       "      <th>train error</th>\n",
       "      <th>validation error</th>\n",
       "    </tr>\n",
       "  </thead>\n",
       "  <tbody>\n",
       "    <tr>\n",
       "      <th>0</th>\n",
       "      <td>10.0</td>\n",
       "      <td>0.0656747908</td>\n",
       "      <td>0.2201936120</td>\n",
       "    </tr>\n",
       "    <tr>\n",
       "      <th>1</th>\n",
       "      <td>35.0</td>\n",
       "      <td>0.0631977080</td>\n",
       "      <td>0.2085033224</td>\n",
       "    </tr>\n",
       "    <tr>\n",
       "      <th>2</th>\n",
       "      <td>60.0</td>\n",
       "      <td>0.0622693160</td>\n",
       "      <td>0.2064910099</td>\n",
       "    </tr>\n",
       "    <tr>\n",
       "      <th>3</th>\n",
       "      <td>85.0</td>\n",
       "      <td>0.0608585428</td>\n",
       "      <td>0.2053468679</td>\n",
       "    </tr>\n",
       "    <tr>\n",
       "      <th>4</th>\n",
       "      <td>110.0</td>\n",
       "      <td>0.0617683373</td>\n",
       "      <td>0.2051871202</td>\n",
       "    </tr>\n",
       "  </tbody>\n",
       "</table>\n",
       "</div>"
      ],
      "text/plain": [
       "   regressor__n_estimators   train error  validation error\n",
       "0                     10.0  0.0656747908      0.2201936120\n",
       "1                     35.0  0.0631977080      0.2085033224\n",
       "2                     60.0  0.0622693160      0.2064910099\n",
       "3                     85.0  0.0608585428      0.2053468679\n",
       "4                    110.0  0.0617683373      0.2051871202"
      ]
     },
     "execution_count": 78,
     "metadata": {},
     "output_type": "execute_result"
    }
   ],
   "source": [
    "nest_results"
   ]
  },
  {
   "cell_type": "code",
   "execution_count": 79,
   "metadata": {},
   "outputs": [
    {
     "data": {
      "image/png": "[encoded data removed]",
      "text/plain": [
       "<matplotlib.figure.Figure at 0x7fee32aeceb8>"
      ]
     },
     "metadata": {},
     "output_type": "display_data"
    }
   ],
   "source": [
    "plot_errors(nest_results)"
   ]
  },
  {
   "cell_type": "markdown",
   "metadata": {},
   "source": [
    "With Random Forest, increasing the number of estimators (trees in the ensemble) will always tend to decrease the training error. However, there are diminishing returns vs. the computation time.  We'll choose 85 trees:"
   ]
  },
  {
   "cell_type": "code",
   "execution_count": 80,
   "metadata": {},
   "outputs": [
    {
     "data": {
      "text/plain": [
       "Pipeline(steps=[('scaler', MaxAbsScaler(copy=True)), ('regressor', RandomForestRegressor(bootstrap=True, criterion='mse', max_depth=45,\n",
       "           max_features=8, max_leaf_nodes=None, min_impurity_split=1e-07,\n",
       "           min_samples_leaf=1, min_samples_split=2,\n",
       "           min_weight_fraction_leaf=0.0, n_estimators=85, n_jobs=-1,\n",
       "           oob_score=False, random_state=463, verbose=0, warm_start=False))])"
      ]
     },
     "execution_count": 80,
     "metadata": {},
     "output_type": "execute_result"
    }
   ],
   "source": [
    "regr.set_params(regressor__n_estimators = 85)"
   ]
  },
  {
   "cell_type": "code",
   "execution_count": 81,
   "metadata": {},
   "outputs": [
    {
     "name": "stdout",
     "output_type": "stream",
     "text": [
      "[ 7.46229682  4.9641058   6.84101738  6.58927209  6.74304235]\n",
      "[ 7.56371967  2.89037176  6.93828448  6.56526497  7.04925484]\n"
     ]
    }
   ],
   "source": [
    "regr.fit(x_train, y_train)\n",
    "\n",
    "y_pred_train_2 = regr.predict(x_train)\n",
    "\n",
    "y_pred_valid_2 = regr.predict(x_valid)\n",
    "\n",
    "print(y_pred_train_2[:5])\n",
    "print(y_train[:5])"
   ]
  },
  {
   "cell_type": "code",
   "execution_count": 82,
   "metadata": {},
   "outputs": [
    {
     "data": {
      "image/png": "[encoded data removed]",
      "text/plain": [
       "<matplotlib.figure.Figure at 0x7fee5154f2e8>"
      ]
     },
     "metadata": {},
     "output_type": "display_data"
    }
   ],
   "source": [
    "plt.figure(figsize=(10,10))\n",
    "plt.scatter(y_train, y_pred_train_2)\n",
    "plt.plot(y_train, y_train, color='k')\n",
    "plt.xlabel(\"y_true\")\n",
    "plt.ylabel(\"y_pred\")\n",
    "plt.title(\"Training data\")\n",
    "plt.show()"
   ]
  },
  {
   "cell_type": "code",
   "execution_count": 83,
   "metadata": {},
   "outputs": [
    {
     "data": {
      "image/png": "[encoded data removed]",
      "text/plain": [
       "<matplotlib.figure.Figure at 0x7fee515577b8>"
      ]
     },
     "metadata": {},
     "output_type": "display_data"
    }
   ],
   "source": [
    "plt.figure(figsize=(10,10))\n",
    "plt.scatter(y_valid, y_pred_valid_2)\n",
    "plt.plot(y_valid, y_valid, color='k')\n",
    "plt.xlabel(\"y_true\")\n",
    "plt.ylabel(\"y_pred\")\n",
    "plt.title(\"Validation data\")\n",
    "plt.show()"
   ]
  },
  {
   "cell_type": "code",
   "execution_count": 84,
   "metadata": {},
   "outputs": [
    {
     "data": {
      "text/plain": [
       "0.2053468679097874"
      ]
     },
     "execution_count": 84,
     "metadata": {},
     "output_type": "execute_result"
    }
   ],
   "source": [
    "mean_squared_error(y_valid, regr.predict(x_valid))"
   ]
  },
  {
   "cell_type": "markdown",
   "metadata": {
    "collapsed": true
   },
   "source": [
    "This error is around 10% smaller than that of the untuned Random Forest model.\n",
    "\n",
    "## Summary\n",
    "\n",
    "In this notebook, we saw how to use scikit-learn to develop an end-to-end model for predicting the trip duration for the Kaggle NYC Taxi dataset.  Our simple model involved converting string features to numerical ones, rescaling the features and applying a Random Forest model.  We also learned the grid search technique for optimizing hyperparameters.\n",
    "\n",
    "By having a framework where we can obtain the model training and validation error, we can now go back and study the effect of engineering new features or applying different machine learning algorithms to the dataset.  We can relatively quickly determine whether a modification leads to a better model by comparing to the lowest error that we previously obtained.  During the modeling process, we will want to keep good records of the things that we've tried and the results obtained.  Code version control can be very helpful with that."
   ]
  },
  {
   "cell_type": "code",
   "execution_count": null,
   "metadata": {
    "collapsed": true
   },
   "outputs": [],
   "source": []
  }
 ],
 "metadata": {
  "kernelspec": {
   "display_name": "Python 3",
   "language": "python",
   "name": "python3"
  },
  "language_info": {
   "codemirror_mode": {
    "name": "ipython",
    "version": 3
   },
   "file_extension": ".py",
   "mimetype": "text/x-python",
   "name": "python",
   "nbconvert_exporter": "python",
   "pygments_lexer": "ipython3",
   "version": "3.6.2"
  }
 },
 "nbformat": 4,
 "nbformat_minor": 2
}
